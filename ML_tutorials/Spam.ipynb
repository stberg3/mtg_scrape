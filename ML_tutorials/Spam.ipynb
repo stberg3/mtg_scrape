{
 "cells": [
  {
   "cell_type": "markdown",
   "metadata": {},
   "source": [
    "# BYO Spam Classifier (pp. 103)\n",
    "## 1. Split datasets into test and training sets"
   ]
  },
  {
   "cell_type": "code",
   "execution_count": 6,
   "metadata": {},
   "outputs": [
    {
     "data": {
      "text/plain": [
       "['easy_ham_2',\n",
       " 'hard_ham',\n",
       " 'easy_ham',\n",
       " 'spam',\n",
       " 'all_spam',\n",
       " 'housing.tgz',\n",
       " 'all_ham',\n",
       " 'housing.csv',\n",
       " 'spam_2']"
      ]
     },
     "execution_count": 6,
     "metadata": {},
     "output_type": "execute_result"
    }
   ],
   "source": [
    "import os\n",
    "# \n",
    "os.listdir()\n",
    "# os.chdir(\"datasets\")"
   ]
  },
  {
   "cell_type": "code",
   "execution_count": 7,
   "metadata": {},
   "outputs": [],
   "source": [
    "import mailbox as mb\n",
    "from mailbox import Message\n",
    "\n",
    "\n",
    "ham = []\n",
    "spam = []\n",
    "\n",
    "for fn in os.listdir('easy_ham'):\n",
    "    with open('easy_ham/' + fn,'rb') as file:\n",
    "        ham.append(Message(file.read()))\n",
    "\n",
    "for fn in os.listdir('spam'):\n",
    "    with open('spam/' + fn,'rb') as file:\n",
    "        spam.append(Message(file.read()))\n"
   ]
  },
  {
   "cell_type": "code",
   "execution_count": 8,
   "metadata": {},
   "outputs": [
    {
     "name": "stdout",
     "output_type": "stream",
     "text": [
      "[('Return-Path', '<rpm-zzzlist-admin@freshrpms.net>'),\n",
      " ('Delivered-To', 'yyyy@localhost.spamassassin.taint.org'),\n",
      " ('Received',\n",
      "  'from localhost (jalapeno [127.0.0.1])\\n'\n",
      "  '\\tby jmason.org (Postfix) with ESMTP id 4B68E16F03\\n'\n",
      "  '\\tfor <jm@localhost>; Fri,  4 Oct 2002 10:58:10 +0100 (IST)'),\n",
      " ('Received',\n",
      "  'from jalapeno [127.0.0.1]\\n'\n",
      "  '\\tby localhost with IMAP (fetchmail-5.9.0)\\n'\n",
      "  '\\tfor jm@localhost (single-drop); Fri, 04 Oct 2002 10:58:10 +0100 (IST)'),\n",
      " ('Received',\n",
      "  'from egwn.net (auth02.nl.egwn.net [193.172.5.4]) by\\n'\n",
      "  '    dogma.slashnull.org (8.11.6/8.11.6) with ESMTP id g93M3PK16864 for\\n'\n",
      "  '    <jm-rpm@jmason.org>; Thu, 3 Oct 2002 23:03:26 +0100'),\n",
      " ('Received',\n",
      "  'from auth02.nl.egwn.net (localhost [127.0.0.1]) by egwn.net\\n'\n",
      "  '    (8.11.6/8.11.6/EGWN) with ESMTP id g93Lw1f32639; Thu, 3 Oct 2002 '\n",
      "  '23:58:01\\n'\n",
      "  '    +0200'),\n",
      " ('Received',\n",
      "  'from drone5.qsi.net.nz (drone5-svc-skyt.qsi.net.nz\\n'\n",
      "  '    [202.89.128.5]) by egwn.net (8.11.6/8.11.6/EGWN) with SMTP id '\n",
      "  'g93Lvif29183\\n'\n",
      "  '    for <rpm-list@freshrpms.net>; Thu, 3 Oct 2002 23:57:45 +0200'),\n",
      " ('Received', '(qmail 5288 invoked by uid 0); 3 Oct 2002 21:57:41 -0000'),\n",
      " ('Received',\n",
      "  'from unknown (HELO se7en.org) ([202.89.145.8]) (envelope-sender\\n'\n",
      "  '    <mark@talios.com>) by 0 (qmail-ldap-1.03) with SMTP for\\n'\n",
      "  '    <rpm-list@freshrpms.net>; 3 Oct 2002 21:57:41 -0000'),\n",
      " ('Received',\n",
      "  'from spawn.se7en.org ([10.0.0.3]) by se7en.org with esmtp (Exim\\n'\n",
      "  '    3.36 #1 (Debian)) id 17xSGN-0004od-00 for <rpm-list@freshrpms.net>;\\n'\n",
      "  '    Sat, 05 Oct 2002 01:13:04 +1200'),\n",
      " ('From', 'Mark Derricutt <mark@talios.com>'),\n",
      " ('To', 'rpm-zzzlist@freshrpms.net'),\n",
      " ('Subject', 'Re: Python 2.2 site libs?'),\n",
      " ('Message-Id', '<5520000.1033682218@spawn.se7en.org>'),\n",
      " ('In-Reply-To', '<Pine.LNX.4.44.0210031618460.14124-100000@chip.ath.cx>'),\n",
      " ('References', '<Pine.LNX.4.44.0210031618460.14124-100000@chip.ath.cx>'),\n",
      " ('X-Mailer', 'Mulberry/2.2.1 (Linux/x86)'),\n",
      " ('MIME-Version', '1.0'),\n",
      " ('Content-Type', 'text/plain; charset=us-ascii; format=flowed'),\n",
      " ('Content-Transfer-Encoding', '7bit'),\n",
      " ('Content-Disposition', 'inline'),\n",
      " ('X-Mailscanner', 'Found to be clean, Found to be clean'),\n",
      " ('Sender', 'rpm-zzzlist-admin@freshrpms.net'),\n",
      " ('Errors-To', 'rpm-zzzlist-admin@freshrpms.net'),\n",
      " ('X-Beenthere', 'rpm-zzzlist@freshrpms.net'),\n",
      " ('X-Mailman-Version', '2.0.11'),\n",
      " ('Precedence', 'bulk'),\n",
      " ('Reply-To', 'rpm-zzzlist@freshrpms.net'),\n",
      " ('List-Help', '<mailto:rpm-zzzlist-request@freshrpms.net?subject=help>'),\n",
      " ('List-Post', '<mailto:rpm-zzzlist@freshrpms.net>'),\n",
      " ('List-Subscribe',\n",
      "  '<http://lists.freshrpms.net/mailman/listinfo/rpm-zzzlist>,\\n'\n",
      "  '    <mailto:rpm-list-request@freshrpms.net?subject=subscribe>'),\n",
      " ('List-Id', 'Freshrpms RPM discussion list <rpm-zzzlist.freshrpms.net>'),\n",
      " ('List-Unsubscribe',\n",
      "  '<http://lists.freshrpms.net/mailman/listinfo/rpm-zzzlist>,\\n'\n",
      "  '    <mailto:rpm-list-request@freshrpms.net?subject=unsubscribe>'),\n",
      " ('List-Archive', '<http://lists.freshrpms.net/pipermail/rpm-zzzlist/>'),\n",
      " ('X-Original-Date', 'Fri, 04 Oct 2002 09:57:00 +1200'),\n",
      " ('Date', 'Fri, 04 Oct 2002 09:57:00 +1200')]\n"
     ]
    }
   ],
   "source": [
    "from pprint import pprint\n",
    "pprint(ham[0].items())\n"
   ]
  },
  {
   "cell_type": "code",
   "execution_count": 9,
   "metadata": {
    "collapsed": true
   },
   "outputs": [],
   "source": [
    "train_ham, test_ham = ham[:-1000], ham[-1000:]\n",
    "train_spam, test_spam = spam[:-200], spam[-200:]"
   ]
  },
  {
   "cell_type": "markdown",
   "metadata": {},
   "source": [
    "## 2. Write a data prep pipeline to convert emails into feature vectors\n"
   ]
  },
  {
   "cell_type": "code",
   "execution_count": 10,
   "metadata": {},
   "outputs": [
    {
     "data": {
      "text/plain": [
       "<mailbox.Message at 0x7ff95c894898>"
      ]
     },
     "execution_count": 10,
     "metadata": {},
     "output_type": "execute_result"
    }
   ],
   "source": [
    "from nltk import FreqDist\n",
    "from nltk.tokenize import word_tokenize\n",
    "from functools import reduce\n",
    "\n",
    "train_ham[0]"
   ]
  },
  {
   "cell_type": "code",
   "execution_count": 19,
   "metadata": {},
   "outputs": [
    {
     "name": "stdout",
     "output_type": "stream",
     "text": [
      "<class 'mailbox.Message'>\n",
      "<class 'type'>\n"
     ]
    },
    {
     "ename": "NameError",
     "evalue": "name 'Type' is not defined",
     "output_type": "error",
     "traceback": [
      "\u001b[0;31m---------------------------------------------------------------------------\u001b[0m",
      "\u001b[0;31mNameError\u001b[0m                                 Traceback (most recent call last)",
      "\u001b[0;32m<ipython-input-19-564ec7b0bf59>\u001b[0m in \u001b[0;36m<module>\u001b[0;34m()\u001b[0m\n\u001b[1;32m      2\u001b[0m \u001b[0mprint\u001b[0m\u001b[0;34m(\u001b[0m\u001b[0mtype\u001b[0m\u001b[0;34m(\u001b[0m\u001b[0mtype\u001b[0m\u001b[0;34m(\u001b[0m\u001b[0mtrain_ham\u001b[0m\u001b[0;34m[\u001b[0m\u001b[0;36m0\u001b[0m\u001b[0;34m]\u001b[0m\u001b[0;34m)\u001b[0m\u001b[0;34m)\u001b[0m\u001b[0;34m)\u001b[0m\u001b[0;34m\u001b[0m\u001b[0m\n\u001b[1;32m      3\u001b[0m \u001b[0;34m\u001b[0m\u001b[0m\n\u001b[0;32m----> 4\u001b[0;31m \u001b[0mt\u001b[0m \u001b[0;34m=\u001b[0m \u001b[0mType\u001b[0m\u001b[0;34m(\u001b[0m\u001b[0;36m1\u001b[0m\u001b[0;34m)\u001b[0m\u001b[0;34m\u001b[0m\u001b[0m\n\u001b[0m\u001b[1;32m      5\u001b[0m \u001b[0mprint\u001b[0m\u001b[0;34m(\u001b[0m\u001b[0mt\u001b[0m\u001b[0;34m)\u001b[0m\u001b[0;34m\u001b[0m\u001b[0m\n",
      "\u001b[0;31mNameError\u001b[0m: name 'Type' is not defined"
     ]
    }
   ],
   "source": [
    "print(type(train_ham[0]))\n",
    "print(type(type(train_ham[0])))\n",
    "\n",
    "t = Type(1)\n",
    "print(t)"
   ]
  },
  {
   "cell_type": "markdown",
   "metadata": {},
   "source": [
    "## 3. Add hyperparameters to prep pipeline"
   ]
  },
  {
   "cell_type": "code",
   "execution_count": null,
   "metadata": {
    "collapsed": true
   },
   "outputs": [],
   "source": []
  },
  {
   "cell_type": "markdown",
   "metadata": {},
   "source": [
    "## 4. Try using different classifiers "
   ]
  }
 ],
 "metadata": {
  "kernelspec": {
   "display_name": "Python 3",
   "language": "python",
   "name": "python3"
  },
  "language_info": {
   "codemirror_mode": {
    "name": "ipython",
    "version": 3
   },
   "file_extension": ".py",
   "mimetype": "text/x-python",
   "name": "python",
   "nbconvert_exporter": "python",
   "pygments_lexer": "ipython3",
   "version": "3.6.1"
  }
 },
 "nbformat": 4,
 "nbformat_minor": 2
}

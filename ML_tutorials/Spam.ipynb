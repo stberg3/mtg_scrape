{
 "cells": [
  {
   "cell_type": "markdown",
   "metadata": {},
   "source": [
    "# BYO Spam Classifier (pp. 103)\n",
    "## 1. Split datasets into test and training sets"
   ]
  },
  {
   "cell_type": "code",
   "execution_count": 1,
   "metadata": {
    "collapsed": true
   },
   "outputs": [],
   "source": [
    "import os\n",
    "# \n",
    "os.listdir()\n",
    "if os.path.exists('datasets/'):\n",
    "    os.chdir(\"datasets\")"
   ]
  },
  {
   "cell_type": "code",
   "execution_count": 2,
   "metadata": {
    "collapsed": true
   },
   "outputs": [],
   "source": [
    "import mailbox as mb\n",
    "from mailbox import Message\n",
    "\n",
    "\n",
    "ham = []\n",
    "spam = []\n",
    "\n",
    "for fn in os.listdir('easy_ham'):\n",
    "    with open('easy_ham/' + fn,'rb') as file:\n",
    "        ham.append(Message(file.read()))\n",
    "\n",
    "for fn in os.listdir('spam'):\n",
    "    with open('spam/' + fn,'rb') as file:\n",
    "        spam.append(Message(file.read()))\n"
   ]
  },
  {
   "cell_type": "code",
   "execution_count": 9,
   "metadata": {
    "collapsed": false
   },
   "outputs": [
    {
     "name": "stdout",
     "output_type": "stream",
     "text": [
      "2551\n",
      "501\n"
     ]
    }
   ],
   "source": [
    "print(len(ham))\n",
    "print(len(spam))"
   ]
  },
  {
   "cell_type": "markdown",
   "metadata": {},
   "source": [
    "## 2. Process data\n",
    "A. Turn the messages into vectors ([see docs](http://scikit-learn.org/stable/modules/feature_extraction.html#common-vectorizer-usage))"
   ]
  },
  {
   "cell_type": "code",
   "execution_count": 3,
   "metadata": {
    "collapsed": false
   },
   "outputs": [
    {
     "data": {
      "text/plain": [
       "CountVectorizer(analyzer='word', binary=False, decode_error='strict',\n",
       "        dtype=<class 'numpy.int64'>, encoding='utf-8', input='content',\n",
       "        lowercase=True, max_df=1.0, max_features=None, min_df=1,\n",
       "        ngram_range=(1, 1), preprocessor=None, stop_words=None,\n",
       "        strip_accents=None, token_pattern='(?u)\\\\b\\\\w\\\\w+\\\\b',\n",
       "        tokenizer=None, vocabulary=None)"
      ]
     },
     "execution_count": 3,
     "metadata": {},
     "output_type": "execute_result"
    }
   ],
   "source": [
    "from sklearn.feature_extraction.text import CountVectorizer\n",
    "\n",
    "vectorizer = CountVectorizer(min_df=1)\n",
    "vectorizer"
   ]
  },
  {
   "cell_type": "markdown",
   "metadata": {},
   "source": [
    "## 3. Write a data prep pipeline to convert emails into feature vectors\n"
   ]
  },
  {
   "cell_type": "code",
   "execution_count": 6,
   "metadata": {
    "collapsed": false
   },
   "outputs": [],
   "source": [
    "from sklearn.pipeline import Pipeline\n",
    "from sklearn.base import BaseEstimator, TransformerMixin\n",
    "import numpy as np\n",
    "\n",
    "class EmailToString(BaseEstimator, TransformerMixin):\n",
    "    def fit(self, X, y=None):\n",
    "        return self\n",
    "    def transform(self, X):\n",
    "        return [str(email.values()) for email in X]\n",
    "    \n",
    "text_pipeline = Pipeline([\n",
    "    ('stringify', EmailToString()),\n",
    "    ('vectorizer',CountVectorizer(min_df=1))\n",
    "])\n",
    "\n",
    "y_ham = np.ndarray([1, len(ham)-1000]) # + np.ndarray([1, len(train_spam)]).fill(False)\n",
    "y_ham.fill(True)\n",
    "y_spam = np.ndarray([1, len(spam)-200])\n",
    "y_spam.fill(True)\n",
    "\n",
    "y_ham = np.ndarray([1, len(ham)-1000]) # + np.ndarray([1, len(train_spam)]).fill(False)\n",
    "y_ham.fill(True)\n",
    "y_spam = np.ndarray([1, len(spam)-200])\n",
    "y_spam.fill(True)\n",
    "\n",
    "y_train = np.concatenate((y_ham, y_spam), axis=1)\n",
    "\n",
    "text_prepared_train = text_pipeline.fit_transform(ham[:-1000] + spam[:-200])\n",
    "text_prepared_test = text_pipeline.fit_transform(ham[-1000:] + spam[-200:])\n",
    "\n",
    "X_train = text_prepared_train\n"
   ]
  },
  {
   "cell_type": "code",
   "execution_count": 7,
   "metadata": {
    "collapsed": false
   },
   "outputs": [
    {
     "name": "stdout",
     "output_type": "stream",
     "text": [
      "(1, 1551)\n",
      "(1, 301)\n",
      "(1, 1852)\n"
     ]
    }
   ],
   "source": [
    "print(y_ham.shape)\n",
    "print(y_spam.shape)\n",
    "print(y.shape)"
   ]
  },
  {
   "cell_type": "code",
   "execution_count": 18,
   "metadata": {
    "collapsed": false
   },
   "outputs": [
    {
     "name": "stdout",
     "output_type": "stream",
     "text": [
      "(1852, 21997)\n",
      "(1, 1852)\n"
     ]
    }
   ],
   "source": [
    "print(X.shape)\n",
    "print(y.shape)"
   ]
  },
  {
   "cell_type": "code",
   "execution_count": 22,
   "metadata": {
    "collapsed": false
   },
   "outputs": [
    {
     "ename": "ValueError",
     "evalue": "setting an array element with a sequence.",
     "output_type": "error",
     "traceback": [
      "\u001b[1;31m---------------------------------------------------------------------------\u001b[0m",
      "\u001b[1;31mValueError\u001b[0m                                Traceback (most recent call last)",
      "\u001b[1;32m<ipython-input-22-5eddf627acbb>\u001b[0m in \u001b[0;36m<module>\u001b[1;34m()\u001b[0m\n\u001b[0;32m      7\u001b[0m     \u001b[0mnumpy\u001b[0m\u001b[1;33m.\u001b[0m\u001b[0mrandom\u001b[0m\u001b[1;33m.\u001b[0m\u001b[0mshuffle\u001b[0m\u001b[1;33m(\u001b[0m\u001b[0mb\u001b[0m\u001b[1;33m)\u001b[0m\u001b[1;33m\u001b[0m\u001b[0m\n\u001b[0;32m      8\u001b[0m \u001b[1;33m\u001b[0m\u001b[0m\n\u001b[1;32m----> 9\u001b[1;33m \u001b[0mX_shuf\u001b[0m\u001b[1;33m,\u001b[0m \u001b[0my_shuff\u001b[0m \u001b[1;33m=\u001b[0m \u001b[0mshuffle_in_unison\u001b[0m\u001b[1;33m(\u001b[0m\u001b[0mX\u001b[0m\u001b[1;33m,\u001b[0m \u001b[0my\u001b[0m\u001b[1;33m)\u001b[0m\u001b[1;33m\u001b[0m\u001b[0m\n\u001b[0m",
      "\u001b[1;32m<ipython-input-21-393e7a239357>\u001b[0m in \u001b[0;36mshuffle_in_unison\u001b[1;34m(a, b)\u001b[0m\n\u001b[0;32m      7\u001b[0m \u001b[1;33m\u001b[0m\u001b[0m\n\u001b[0;32m      8\u001b[0m     \u001b[1;32mfor\u001b[0m \u001b[0mold_index\u001b[0m\u001b[1;33m,\u001b[0m \u001b[0mnew_index\u001b[0m \u001b[1;32min\u001b[0m \u001b[0menumerate\u001b[0m\u001b[1;33m(\u001b[0m\u001b[0mpermutation\u001b[0m\u001b[1;33m)\u001b[0m\u001b[1;33m:\u001b[0m\u001b[1;33m\u001b[0m\u001b[0m\n\u001b[1;32m----> 9\u001b[1;33m         \u001b[0mshuffled_a\u001b[0m\u001b[1;33m[\u001b[0m\u001b[0mnew_index\u001b[0m\u001b[1;33m]\u001b[0m \u001b[1;33m=\u001b[0m \u001b[0ma\u001b[0m\u001b[1;33m[\u001b[0m\u001b[0mold_index\u001b[0m\u001b[1;33m]\u001b[0m\u001b[1;33m\u001b[0m\u001b[0m\n\u001b[0m\u001b[0;32m     10\u001b[0m         \u001b[0mshuffled_b\u001b[0m\u001b[1;33m[\u001b[0m\u001b[0mnew_index\u001b[0m\u001b[1;33m]\u001b[0m \u001b[1;33m=\u001b[0m \u001b[0mb\u001b[0m\u001b[1;33m[\u001b[0m\u001b[0mold_index\u001b[0m\u001b[1;33m]\u001b[0m\u001b[1;33m\u001b[0m\u001b[0m\n\u001b[0;32m     11\u001b[0m \u001b[1;33m\u001b[0m\u001b[0m\n",
      "\u001b[1;31mValueError\u001b[0m: setting an array element with a sequence."
     ]
    }
   ],
   "source": [
    "# Credit to Saullo Castro for shuffle_in_unison()\n",
    "\n",
    "def shuffle_in_unison_scary(a, b):\n",
    "    rng_state = numpy.random.get_state()\n",
    "    numpy.random.shuffle(a)\n",
    "    numpy.random.set_state(rng_state)\n",
    "    numpy.random.shuffle(b)\n",
    "\n",
    "X_shuf, y_shuff = shuffle_in_unison(X, y)\n"
   ]
  },
  {
   "cell_type": "markdown",
   "metadata": {},
   "source": [
    "## 4. Add hyperparameters to prep pipeline"
   ]
  },
  {
   "cell_type": "code",
   "execution_count": null,
   "metadata": {
    "collapsed": true
   },
   "outputs": [],
   "source": [
    "text_pipeline = Pipeline([\n",
    "    ('stringify', EmailToString()),\n",
    "    ('vectorizer',CountVectorizer(min_df=1))\n",
    "])"
   ]
  },
  {
   "cell_type": "markdown",
   "metadata": {},
   "source": [
    "## 5. Try using different classifiers "
   ]
  },
  {
   "cell_type": "code",
   "execution_count": null,
   "metadata": {
    "collapsed": true
   },
   "outputs": [],
   "source": []
  }
 ],
 "metadata": {
  "kernelspec": {
   "display_name": "Python 3",
   "language": "python",
   "name": "python3"
  },
  "language_info": {
   "codemirror_mode": {
    "name": "ipython",
    "version": 3
   },
   "file_extension": ".py",
   "mimetype": "text/x-python",
   "name": "python",
   "nbconvert_exporter": "python",
   "pygments_lexer": "ipython3",
   "version": "3.5.2"
  }
 },
 "nbformat": 4,
 "nbformat_minor": 2
}

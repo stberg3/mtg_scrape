{
 "cells": [
  {
   "cell_type": "markdown",
   "metadata": {},
   "source": [
    "# BYO Spam Classifier (pp. 103)\n",
    "## 1. Split datasets into test and training sets"
   ]
  },
  {
   "cell_type": "code",
   "execution_count": 1,
   "metadata": {
    "collapsed": true
   },
   "outputs": [],
   "source": [
    "import os\n",
    "# \n",
    "os.listdir()\n",
    "if os.path.exists('datasets/'):\n",
    "    os.chdir(\"datasets\")"
   ]
  },
  {
   "cell_type": "code",
   "execution_count": 2,
   "metadata": {
    "collapsed": true
   },
   "outputs": [],
   "source": [
    "import mailbox as mb\n",
    "from mailbox import Message\n",
    "\n",
    "\n",
    "ham = []\n",
    "spam = []\n",
    "\n",
    "for fn in os.listdir('easy_ham'):\n",
    "    with open('easy_ham/' + fn,'rb') as file:\n",
    "        ham.append(Message(file.read()))\n",
    "\n",
    "for fn in os.listdir('spam'):\n",
    "    with open('spam/' + fn,'rb') as file:\n",
    "        spam.append(Message(file.read()))\n"
   ]
  },
  {
   "cell_type": "markdown",
   "metadata": {},
   "source": [
    "## 2. Process data\n",
    "A. Turn the messages into vectors ([see docs](http://scikit-learn.org/stable/modules/feature_extraction.html#common-vectorizer-usage))"
   ]
  },
  {
   "cell_type": "code",
   "execution_count": 3,
   "metadata": {},
   "outputs": [
    {
     "data": {
      "text/plain": [
       "CountVectorizer(analyzer='word', binary=False, decode_error='strict',\n",
       "        dtype=<class 'numpy.int64'>, encoding='utf-8', input='content',\n",
       "        lowercase=True, max_df=1.0, max_features=None, min_df=1,\n",
       "        ngram_range=(1, 1), preprocessor=None, stop_words=None,\n",
       "        strip_accents=None, token_pattern='(?u)\\\\b\\\\w\\\\w+\\\\b',\n",
       "        tokenizer=None, vocabulary=None)"
      ]
     },
     "execution_count": 3,
     "metadata": {},
     "output_type": "execute_result"
    }
   ],
   "source": [
    "from sklearn.feature_extraction.text import CountVectorizer\n",
    "\n",
    "vectorizer = CountVectorizer(min_df=1)\n",
    "vectorizer"
   ]
  },
  {
   "cell_type": "markdown",
   "metadata": {},
   "source": [
    "## 3. Write a data prep pipeline to convert emails into feature vectors\n"
   ]
  },
  {
   "cell_type": "code",
   "execution_count": 75,
   "metadata": {},
   "outputs": [],
   "source": [
    "from sklearn.pipeline import Pipeline\n",
    "from sklearn.base import BaseEstimator, TransformerMixin\n",
    "\n",
    "class EmailToString(BaseEstimator, TransformerMixin):\n",
    "    def fit(self, X, y=None):\n",
    "        return self\n",
    "    def transform(self, X):\n",
    "        return [str(email.values()) for email in X]\n",
    "    \n",
    "text_pipeline = Pipeline([\n",
    "    ('stringify', EmailToString()),\n",
    "    ('vectorizer',CountVectorizer(min_df=1))\n",
    "])\n",
    "\n",
    "text_prepared = test_pipeline.fit_transform(ham[:-1000] + spam[:-200])\n",
    "\n",
    "y_ham = np.ndarray([1, len(ham)-1000]) # + np.ndarray([1, len(train_spam)]).fill(False)\n",
    "y_ham.fill(True)\n",
    "y_spam = np.ndarray([1, len(spam)-200])\n",
    "y_spam.fill(True)\n",
    "\n",
    "X = text_prepared\n",
    "y = np.concatenate((y_ham, y_spam), axis=1)"
   ]
  },
  {
   "cell_type": "code",
   "execution_count": 73,
   "metadata": {},
   "outputs": [
    {
     "name": "stdout",
     "output_type": "stream",
     "text": [
      "(1, 4051)\n",
      "(1, 801)\n",
      "(1, 4852)\n"
     ]
    }
   ],
   "source": [
    "print(y_ham.shape)\n",
    "print(y_spam.shape)\n",
    "print(y.shape)"
   ]
  },
  {
   "cell_type": "markdown",
   "metadata": {},
   "source": [
    "## 4. Add hyperparameters to prep pipeline"
   ]
  },
  {
   "cell_type": "code",
   "execution_count": null,
   "metadata": {
    "collapsed": true
   },
   "outputs": [],
   "source": [
    "text_pipeline = Pipeline([\n",
    "    ('stringify', EmailToString()),\n",
    "    ('vectorizer',CountVectorizer(min_df=1))\n",
    "])"
   ]
  },
  {
   "cell_type": "markdown",
   "metadata": {},
   "source": [
    "## 5. Try using different classifiers "
   ]
  }
 ],
 "metadata": {
  "kernelspec": {
   "display_name": "Python 3",
   "language": "python",
   "name": "python3"
  },
  "language_info": {
   "codemirror_mode": {
    "name": "ipython",
    "version": 3
   },
   "file_extension": ".py",
   "mimetype": "text/x-python",
   "name": "python",
   "nbconvert_exporter": "python",
   "pygments_lexer": "ipython3",
   "version": "3.6.1"
  }
 },
 "nbformat": 4,
 "nbformat_minor": 2
}

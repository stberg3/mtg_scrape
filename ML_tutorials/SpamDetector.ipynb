{
 "cells": [
  {
   "cell_type": "markdown",
   "metadata": {},
   "source": [
    "# Building a Spam Classifier\n",
    "Here, I'll be using a corpus retrieved from the Apache Spam Assassin Project. <a href=\"http://spamassassin.apache.org/old/publiccorpus/\">Link here</a>. "
   ]
  },
  {
   "cell_type": "markdown",
   "metadata": {},
   "source": [
    "## Step 1: Get Data "
   ]
  },
  {
   "cell_type": "markdown",
   "metadata": {},
   "source": [
    "## Step 2: Uncompress and Examine Data "
   ]
  },
  {
   "cell_type": "code",
   "execution_count": 5,
   "metadata": {
    "collapsed": false
   },
   "outputs": [
    {
     "name": "stdout",
     "output_type": "stream",
     "text": [
      "['20021010_easy_ham.tar',\n",
      " '20021010_easy_ham.tar.bz2',\n",
      " '20030228_spam.tar',\n",
      " '20030228_spam.tar.bz2',\n",
      " 'easy_ham',\n",
      " 'housing.csv',\n",
      " 'housing.tgz',\n",
      " 'spam']\n",
      "['00001.7848dde101aa985090474a91ec93fcf0',\n",
      " '00002.d94f1b97e48ed3b553b3508d116e6a09',\n",
      " '00003.2ee33bc6eacdb11f38d052c44819ba6c',\n",
      " '00004.eac8de8d759b7e74154f142194282724',\n",
      " '00005.57696a39d7d84318ce497886896bf90d']\n",
      "['0001.ea7e79d3153e7469e7a9c3e0af6a357e',\n",
      " '0002.b3120c4bcbf3101e661161ee7efcb8bf',\n",
      " '0003.acfc5ad94bbd27118a0d8685d18c89dd',\n",
      " '0004.e8d5727378ddde5c3be181df593f1712',\n",
      " '0005.8c3b9e9c0f3f183ddaf7592a11b99957']\n"
     ]
    }
   ],
   "source": [
    "from pprint import pprint\n",
    "import os\n",
    "\n",
    "pprint(os.listdir('datasets'))\n",
    "pprint(os.listdir('datasets\\spam')[:5])\n",
    "pprint(os.listdir('datasets\\easy_ham')[:5])"
   ]
  },
  {
   "cell_type": "code",
   "execution_count": 7,
   "metadata": {
    "collapsed": false
   },
   "outputs": [],
   "source": [
    "test_ham = open(r'datasets\\easy_ham\\0001.ea7e79d3153e7469e7a9c3e0af6a357e')\n",
    "test_spam = open(r'datasets\\spam\\00001.7848dde101aa985090474a91ec93fcf0')"
   ]
  },
  {
   "cell_type": "code",
   "execution_count": 11,
   "metadata": {
    "collapsed": false,
    "scrolled": true
   },
   "outputs": [
    {
     "name": "stdout",
     "output_type": "stream",
     "text": [
      "('From exmh-workers-admin@redhat.com  Thu Aug 22 12:36:23 2002\\n'\n",
      " 'Return-Path: <exmh-workers-admin@example.com>\\n'\n",
      " 'Delivered-To: zzzz@localhost.netnoteinc.com\\n'\n",
      " 'Received: from localhost (localhost [127.0.0.1])\\n'\n",
      " '\\tby phobos.labs.netnoteinc.com (Postfix) with ESMTP id D03E543C36\\n'\n",
      " '\\tfor <zzzz@localhost>; Thu, 22 Aug 2002 07:36:16 -0400 (EDT)\\n'\n",
      " 'Received: from phobos [127.0.0.1]\\n'\n",
      " '\\tby localhost with IMAP (fetchmail-5.9.0)\\n'\n",
      " '\\tfor zzzz@localhost (single-drop); Thu, 22 Aug 2002 12:36:16 +0100 (IST)\\n'\n",
      " 'Received: from listman.example.com (listman.example.com [66.187.233.211]) '\n",
      " 'by\\n'\n",
      " '    dogma.slashnull.org (8.11.6/8.11.6) with ESMTP id g7MBYrZ04811 for\\n'\n",
      " '    <zzzz-exmh@example.com>; Thu, 22 Aug 2002 12:34:53 +0100\\n'\n",
      " 'Received: from listman.example.com (localhost.localdomain [127.0.0.1]) by\\n'\n",
      " '    listman.redhat.com (Postfix) with ESMTP id 8386540858; Thu, 22 Aug 2002\\n'\n",
      " '    07:35:02 -0400 (EDT)\\n'\n",
      " 'Delivered-To: exmh-workers@listman.example.com\\n'\n",
      " 'Received: from int-mx1.corp.example.com (int-mx1.corp.example.com\\n'\n",
      " '    [172.16.52.254]) by listman.redhat.com (Postfix) with ESMTP id '\n",
      " '10CF8406D7\\n'\n",
      " '    for <exmh-workers@listman.redhat.com>; Thu, 22 Aug 2002 07:34:10 -0400\\n'\n",
      " '    (EDT)\\n'\n",
      " 'Received: (from mail@localhost) by int-mx1.corp.example.com (8.11.6/8.11.6)\\n'\n",
      " '    id g7MBY7g11259 for exmh-workers@listman.redhat.com; Thu, 22 Aug 2002\\n'\n",
      " '    07:34:07 -0400\\n'\n",
      " 'Received: from mx1.example.com (mx1.example.com [172.16.48.31]) by\\n'\n",
      " '    int-mx1.corp.redhat.com (8.11.6/8.11.6) with SMTP id g7MBY7Y11255 for\\n'\n",
      " '    <exmh-workers@redhat.com>; Thu, 22 Aug 2002 07:34:07 -0400\\n'\n",
      " 'Received: from ratree.psu.ac.th ([202.28.97.6]) by mx1.example.com\\n'\n",
      " '    (8.11.6/8.11.6) with SMTP id g7MBIhl25223 for '\n",
      " '<exmh-workers@redhat.com>;\\n'\n",
      " '    Thu, 22 Aug 2002 07:18:55 -0400\\n'\n",
      " 'Received: from delta.cs.mu.OZ.AU (delta.coe.psu.ac.th [172.30.0.98]) by\\n'\n",
      " '    ratree.psu.ac.th (8.11.6/8.11.6) with ESMTP id g7MBWel29762;\\n'\n",
      " '    Thu, 22 Aug 2002 18:32:40 +0700 (ICT)\\n'\n",
      " 'Received: from munnari.OZ.AU (localhost [127.0.0.1]) by delta.cs.mu.OZ.AU\\n'\n",
      " '    (8.11.6/8.11.6) with ESMTP id g7MBQPW13260; Thu, 22 Aug 2002 18:26:25\\n'\n",
      " '    +0700 (ICT)\\n'\n",
      " 'From: Robert Elz <kre@munnari.OZ.AU>\\n'\n",
      " 'To: Chris Garrigues <cwg-dated-1030377287.06fa6d@DeepEddy.Com>\\n'\n",
      " 'Cc: exmh-workers@example.com\\n'\n",
      " 'Subject: Re: New Sequences Window\\n'\n",
      " 'In-Reply-To: <1029945287.4797.TMDA@deepeddy.vircio.com>\\n'\n",
      " 'References: <1029945287.4797.TMDA@deepeddy.vircio.com>\\n'\n",
      " '    <1029882468.3116.TMDA@deepeddy.vircio.com> '\n",
      " '<9627.1029933001@munnari.OZ.AU>\\n'\n",
      " '    <1029943066.26919.TMDA@deepeddy.vircio.com>\\n'\n",
      " '    <1029944441.398.TMDA@deepeddy.vircio.com>\\n'\n",
      " 'MIME-Version: 1.0\\n'\n",
      " 'Content-Type: text/plain; charset=us-ascii\\n'\n",
      " 'Message-Id: <13258.1030015585@munnari.OZ.AU>\\n'\n",
      " 'X-Loop: exmh-workers@example.com\\n'\n",
      " 'Sender: exmh-workers-admin@example.com\\n'\n",
      " 'Errors-To: exmh-workers-admin@example.com\\n'\n",
      " 'X-Beenthere: exmh-workers@example.com\\n'\n",
      " 'X-Mailman-Version: 2.0.1\\n'\n",
      " 'Precedence: bulk\\n'\n",
      " 'List-Help: <mailto:exmh-workers-request@example.com?subject=help>\\n'\n",
      " 'List-Post: <mailto:exmh-workers@example.com>\\n'\n",
      " 'List-Subscribe: '\n",
      " '<https://listman.example.com/mailman/listinfo/exmh-workers>,\\n'\n",
      " '    <mailto:exmh-workers-request@redhat.com?subject=subscribe>\\n'\n",
      " 'List-Id: Discussion list for EXMH developers <exmh-workers.example.com>\\n'\n",
      " 'List-Unsubscribe: '\n",
      " '<https://listman.example.com/mailman/listinfo/exmh-workers>,\\n'\n",
      " '    <mailto:exmh-workers-request@redhat.com?subject=unsubscribe>\\n'\n",
      " 'List-Archive: <https://listman.example.com/mailman/private/exmh-workers/>\\n'\n",
      " 'Date: Thu, 22 Aug 2002 18:26:25 +0700\\n'\n",
      " '\\n'\n",
      " '    Date:        Wed, 21 Aug 2002 10:54:46 -0500\\n'\n",
      " '    From:        Chris Garrigues <cwg-dated-1030377287.06fa6d@DeepEddy.Com>\\n'\n",
      " '    Message-ID:  <1029945287.4797.TMDA@deepeddy.vircio.com>\\n'\n",
      " '\\n'\n",
      " '\\n'\n",
      " \"  | I can't reproduce this error.\\n\"\n",
      " '\\n'\n",
      " 'For me it is very repeatable... (like every time, without fail).\\n'\n",
      " '\\n'\n",
      " 'This is the debug log of the pick happening ...\\n'\n",
      " '\\n'\n",
      " '18:19:03 Pick_It {exec pick +inbox -list -lbrace -lbrace -subject ftp '\n",
      " '-rbrace -rbrace} {4852-4852 -sequence mercury}\\n'\n",
      " '18:19:03 exec pick +inbox -list -lbrace -lbrace -subject ftp -rbrace -rbrace '\n",
      " '4852-4852 -sequence mercury\\n'\n",
      " '18:19:04 Ftoc_PickMsgs {{1 hit}}\\n'\n",
      " '18:19:04 Marking 1 hits\\n'\n",
      " '18:19:04 tkerror: syntax error in expression \"int ...\\n'\n",
      " '\\n'\n",
      " 'Note, if I run the pick command by hand ...\\n'\n",
      " '\\n'\n",
      " 'delta$ pick +inbox -list -lbrace -lbrace -subject ftp -rbrace -rbrace  '\n",
      " '4852-4852 -sequence mercury\\n'\n",
      " '1 hit\\n'\n",
      " '\\n'\n",
      " 'That\\'s where the \"1 hit\" comes from (obviously).  The version of nmh I\\'m\\n'\n",
      " 'using is ...\\n'\n",
      " '\\n'\n",
      " 'delta$ pick -version\\n'\n",
      " 'pick -- nmh-1.0.4 [compiled on fuchsia.cs.mu.OZ.AU at Sun Mar 17 14:55:56 '\n",
      " 'ICT 2002]\\n'\n",
      " '\\n'\n",
      " 'And the relevant part of my .mh_profile ...\\n'\n",
      " '\\n'\n",
      " 'delta$ mhparam pick\\n'\n",
      " '-seq sel -list\\n'\n",
      " '\\n'\n",
      " '\\n'\n",
      " 'Since the pick command works, the sequence (actually, both of them, the\\n'\n",
      " \"one that's explicit on the command line, from the search popup, and the\\n\"\n",
      " 'one that comes from .mh_profile) do get created.\\n'\n",
      " '\\n'\n",
      " 'kre\\n'\n",
      " '\\n'\n",
      " \"ps: this is still using the version of the code form a day ago, I haven't\\n\"\n",
      " 'been able to reach the cvs repository today (local routing issue I think).\\n'\n",
      " '\\n'\n",
      " '\\n'\n",
      " '\\n'\n",
      " '_______________________________________________\\n'\n",
      " 'Exmh-workers mailing list\\n'\n",
      " 'Exmh-workers@redhat.com\\n'\n",
      " 'https://listman.redhat.com/mailman/listinfo/exmh-workers\\n'\n",
      " '\\n')\n"
     ]
    }
   ],
   "source": [
    "with open(r'datasets\\easy_ham\\0001.ea7e79d3153e7469e7a9c3e0af6a357e') as ham_file:\n",
    "    pprint(ham_file.read())"
   ]
  },
  {
   "cell_type": "markdown",
   "metadata": {},
   "source": [
    "## Step 3: Split the datasets into a training set and a test set "
   ]
  },
  {
   "cell_type": "code",
   "execution_count": 17,
   "metadata": {
    "collapsed": false
   },
   "outputs": [
    {
     "name": "stdout",
     "output_type": "stream",
     "text": [
      "UnicodeDecodeError('charmap', b'From sitescooper-talk-admin@lists.sourceforge.net  Mon Aug 26 20:15:19 2002\\nReturn-Path: <sitescooper-talk-admin@example.sourceforge.net>\\nDelivered-To: zzzz@localhost.spamassassin.taint.org\\nReceived: from localhost (localhost [127.0.0.1])\\n\\tby phobos.labs.spamassassin.taint.org (Postfix) with ESMTP id 92C1843F9B\\n\\tfor <zzzz@localhost>; Mon, 26 Aug 2002 15:15:19 -0400 (EDT)\\nReceived: from phobos [127.0.0.1]\\n\\tby localhost with IMAP (fetchmail-5.9.0)\\n\\tfor zzzz@localhost (single-drop); Mon, 26 Aug 2002 20:15:19 +0100 (IST)\\nReceived: from usw-sf-list2.sourceforge.net (usw-sf-fw2.sourceforge.net\\n    [216.136.171.252]) by dogma.slashnull.org (8.11.6/8.11.6) with ESMTP id\\n    g7QJ9ZZ05743 for <zzzz-scoop@jmason.org>; Mon, 26 Aug 2002 20:09:35 +0100\\nReceived: from usw-sf-list1-b.sourceforge.net ([10.3.1.13]\\n    helo=usw-sf-list1.sourceforge.net) by usw-sf-list2.sourceforge.net with\\n    esmtp (Exim 3.31-VA-mm2 #1 (Debian)) id 17jPEm-0001Sc-00; Mon,\\n    26 Aug 2002 12:09:20 -0700\\nReceived: from [65.198.220.134] (helo=ejhvvet) by\\n    usw-sf-list1.sourceforge.net with smtp (Exim 3.31-VA-mm2 #1 (Debian)) id\\n    17jPDw-0006Aq-00 for <sitescooper-talk@lists.sourceforge.net>;\\n    Mon, 26 Aug 2002 12:08:29 -0700\\nFrom: Senem Oncul <smgrdphcv@t-online.de>\\nTo: <sitescooper-talk@example.sourceforge.net>\\nX-Mailer: Microsoft Outlook Express 5.50.4133.2400\\nContent-Type: text/plain\\nMessage-Id: <vewaeurtngep@example.sourceforge.net>\\nSubject: [scoop] Haberdar olun\\nSender: sitescooper-talk-admin@example.sourceforge.net\\nErrors-To: sitescooper-talk-admin@example.sourceforge.net\\nX-Beenthere: sitescooper-talk@example.sourceforge.net\\nX-Mailman-Version: 2.0.9-sf.net\\nPrecedence: bulk\\nList-Help: <mailto:sitescooper-talk-request@example.sourceforge.net?subject=help>\\nList-Post: <mailto:sitescooper-talk@example.sourceforge.net>\\nList-Subscribe: <https://example.sourceforge.net/lists/listinfo/sitescooper-talk>,\\n    <mailto:sitescooper-talk-request@lists.sourceforge.net?subject=subscribe>\\nList-Id: Discussion of sitescooper - see http://sitescooper.org/\\n    <sitescooper-talk.lists.sourceforge.net>\\nList-Unsubscribe: <https://example.sourceforge.net/lists/listinfo/sitescooper-talk>,\\n    <mailto:sitescooper-talk-request@lists.sourceforge.net?subject=unsubscribe>\\nList-Archive: <http://www.geocrawler.com/redir-sf.php3?list=sitescooper-talk>\\nX-Original-Date: Mon, 26 Aug 2002 20:05:24 -0400\\nDate: Mon, 26 Aug 2002 20:05:24 -0400\\nContent-Transfer-Encoding: 8bit\\nX-MIME-Autoconverted: from base64 to 8bit by dogma.slashnull.org id\\n    g7QJ9ZZ05743\\n\\nHABERDAR.COM - HABER VE MEDYA PORTALI\\nArt\\xfdk t\\xfcm haberleri sadece tek siteden takip edebileceksiniz. Haberdar.com a\\xe7\\xfdld\\xfd!\\nHaber ba\\xfel\\xfdklar\\xfd, spor haberleri, teknoloji haberleri, k\\xfclt\\xfcr ve sanat haberleri, internet haberleri, bilim ve uzay, \\nsinema, sa\\xf0l\\xfdk...\\nArad\\xfd\\xf0\\xfdn\\xfdz i\\xe7erik http://www.haberdar.com adresinde\\nSadece t\\xfdklay\\xfdn ve haberdar olun\\n\\n\\xff\\xff\\xff\\xff\\xff\\xff\\xff\\xff\\xff\\xff\\xff\\xff\\xff\\xff\\xff\\xff\\xff\\xff\\xff\\xff\\xff\\xff\\xff\\xff\\xff\\xff\\xff\\xff\\xff\\xff\\xff\\xff\\xff\\xff\\xff\\xff\\xff\\xff\\xff\\xff\\xff\\xd3\\x86+,\\x7f\\xf9\\xde\\xb5\\xe9\\x9a\\x8aX\\xac\\xb2\\x9a\\'\\xb2\\x8a\\xdeu\\xbc\\xff9 \\xcd\\xfd8\\xaby\\xda\\x1f\\xb6\\x16\\xad\\xb1\\xa9\\x9e\\xa2W\\\\zYi\\x86\\x89\\xde\\xfcg\\xadjw\\xb0\\x85\\xea\\xde~\\x8a\\xc5DA\\xff\\x86\\xdbi\\xb3\\xff\\xff\\xc3\\x0c\\xff\\x8aza\\xa2x\\x9c\\xfd\\xca&\\xfe\\xbf\\xda\\xb2\\x9f\\xeb\\xad\\xc7\\x9f\\xa2\\xb8\\x1e\\xd7\\xfa\\xde}\\xca\\x1d{\\xb3}\\xfd\\xd3\\xff\\xff\\xff\\xff\\xff\\xff\\xff\\xff\\xff\\xff\\xff\\xff\\xff\\xff\\xff\\xff\\xff\\xff\\xff\\xff\\xff\\xff\\xff\\xff\\xff\\xff\\xff\\xff\\xff\\xff\\xff\\xff\\xff\\xff\\xffJ+^\\xb1\\xca(\\xa5\\xea\\xff\\xb5\\xa9d\\x99\\xa8\\xa5\\x8ax%\\x8a\\xcbR\\x8a\\xd7\\xacr\\x8a)z\\xbf\\xedjY\\xff\\x96+-\\xb3\\xfb(\\xba\\xb7\\x1e~\\x8a\\xe0{\\xf9\\xde\\xb6\\x1bm\\xa6\\xcf\\xff\\xfeX\\xac\\xb6\\xcf\\xec\\xa2\\xea\\xdcy\\xfa+\\x81\\xef\\xe7z\\xdf\\xe5\\x8a\\xcbl\\xfeX\\xac\\xb6)\\xdf\\xa3\\xfb\"\\xb5\\xeb\\x1c\\xa2\\x8a^\\xaf\\xfbZ\\n\\n', 3124, 3125, 'character maps to <undefined>')\n",
      "UnicodeDecodeError('charmap', b'Return-Path: ler@lerami.lerctr.org\\nDelivery-Date: Sat Sep  7 06:14:26 2002\\nReceived: via dmail-2002(12) for +lists/freebsd/ports; Sat, 7 Sep 2002 06:14:26 -0500 (CDT)\\nReturn-Path: <owner-freebsd-ports@FreeBSD.ORG>\\nReceived: from mx2.freebsd.org (mx2.FreeBSD.org [216.136.204.119])\\n\\tby lerami.lerctr.org (8.12.2/8.12.2/20020902/$Revision: 1.30 $) with ESMTP id g87BEIX2008158\\n\\tfor <ler@lerctr.org>; Sat, 7 Sep 2002 06:14:19 -0500 (CDT)\\nReceived: from hub.freebsd.org (hub.FreeBSD.org [216.136.204.18])\\n\\tby mx2.freebsd.org (Postfix) with ESMTP\\n\\tid D6B0B5548A; Sat,  7 Sep 2002 04:14:14 -0700 (PDT)\\n\\t(envelope-from owner-freebsd-ports@FreeBSD.ORG)\\nReceived: by hub.freebsd.org (Postfix, from userid 538)\\n\\tid 448B137B401; Sat,  7 Sep 2002 04:14:14 -0700 (PDT)\\nReceived: from localhost (localhost [127.0.0.1])\\n\\tby hub.freebsd.org (Postfix) with SMTP\\n\\tid 33D712E8016; Sat,  7 Sep 2002 04:14:14 -0700 (PDT)\\nReceived: by hub.freebsd.org (bulk_mailer v1.12); Sat, 7 Sep 2002 04:14:14 -0700\\nDelivered-To: freebsd-ports@freebsd.org\\nReceived: from mx1.FreeBSD.org (mx1.FreeBSD.org [216.136.204.125])\\n\\tby hub.freebsd.org (Postfix) with ESMTP id 31C6137B400\\n\\tfor <ports@freebsd.org>; Sat,  7 Sep 2002 04:14:13 -0700 (PDT)\\nReceived: from mgate.netpath.ne.jp (lilac.netpath.ne.jp [210.253.168.208])\\n\\tby mx1.FreeBSD.org (Postfix) with SMTP id 4816543E65\\n\\tfor <ports@freebsd.org>; Sat,  7 Sep 2002 04:14:12 -0700 (PDT)\\n\\t(envelope-from joko@rs.128.ne.jp)\\nReceived: (qmail 46020 invoked from network); 7 Sep 2002 09:24:03 -0000\\nReceived: from p6044-ipad22marunouchi.tokyo.ocn.ne.jp (HELO D) (61.214.35.44)\\n  by lilac.netpath.ne.jp with SMTP; 7 Sep 2002 09:24:03 -0000\\nFrom: =?iso-2022-jp?B?am9rb0Bycy4xMjgubmUuanA=?=@FreeBSD.ORG\\nTo: =?iso-2022-jp?B?MTIx?=@FreeBSD.ORG\\nReply-To: joko@rs.128.ne.jp\\nDate: Sat, 07 Sep 2002 18:24:06 +0900\\nSubject: =?iso-2022-jp?B?GyRCJDckOCRfJEgkYiRiJE4lMyVpJVwlbCE8JTclZyVzGyhK?=\\nContent-Type: text/plain\\nContent-Transfer-Encoding: 7bit\\nMIME-Version: 1.0\\nMessage-Id: <20020907111412.4816543E65@mx1.FreeBSD.org>\\nSender: owner-freebsd-ports@FreeBSD.ORG\\nList-ID: <freebsd-ports.FreeBSD.ORG>\\nList-Archive: <http://docs.freebsd.org/mail/> (Web Archive)\\nList-Help: <mailto:majordomo@FreeBSD.ORG?subject=help> (List Instructions)\\nList-Subscribe: <mailto:majordomo@FreeBSD.ORG?subject=subscribe%20freebsd-ports>\\nList-Unsubscribe: <mailto:majordomo@FreeBSD.ORG?subject=unsubscribe%20freebsd-ports>\\nX-Loop: FreeBSD.org\\nPrecedence: bulk\\nX-Virus-Scanned: by amavisd-milter (http://amavis.org/)\\nX-Status: \\nX-Keywords: \\n\\n\\x82\\xe0\\x82\\xe0\\x82\\xaa\\x82\\xcd\\x82\\xb6\\x82\\xaf\\x82\\xc4\\x82\\xd4\\x82\\xc7\\x82\\xa4\\x82\\xaa\\x82\\xe4\\x82\\xea\\x82\\xe9\\n\\x82\\xb5\\x82\\xb6\\x82\\xdd\\x82\\xc6\\x82\\xe0\\x82\\xe0\\x82\\xcc\\x83R\\x83\\x89\\x83{\\x83\\x8c\\x81[\\x83V\\x83\\x87\\x83\\x93\\n\\x83\\x8d\\x83\\x8a\\x81[\\x83^\\x83r\\x83f\\x83I\\x81i\\x82c\\x82u\\x82c\\x81j\\x90\\xea\\x96\\xe5\\n\\x82\\xa2\\x82\\xc2\\x82\\xdc\\x82\\xc5\\x89c\\x8b\\xc6\\x82\\xc5\\x82\\xab\\x82\\xe9\\x82\\xa9\\x82\\xed\\x82\\xa9\\x82\\xe8\\x82\\xdc\\x82\\xb9\\x82\\xf1\\n\\x82\\xb2\\x92\\x8d\\x95\\xb6\\x82\\xcd\\x82\\xa8\\x91\\x81\\x82\\xdf\\x82\\xc9\\x81I\\nhttp://www.transrave.com/PC/rori\\n\\x8d\\xec\\x95i\\x97\\xe1\\n\\x8f\\xad\\x8f\\x97\\x93`\\x90\\xe0\\x81@\\x96\\xbc\\x8c\\xc3\\x89\\xae\\x92c\\x92n9\\x81@\\x8f\\xad\\x8f\\x97\\x82\\xcc\\x93\\xb9\\x91\\x90\\n\\x82\\xc8\\x82\\xc7\\x82\\xc8\\x82\\xc7132\\x8d\\xec\\x95i\\x81B\\x8dD\\x95]\\x94\\xad\\x94\\x84\\x92\\x86\\x81I\\n(^-^)/~\\x83\\x8d\\x83\\x8a\\x98F\\x97\\x98\\x83\\x80\\x83g\\x81[\\n\\n\\nTo Unsubscribe: send mail to majordomo@FreeBSD.org\\nwith \"unsubscribe freebsd-ports\" in the body of the message\\n\\n', 2568, 2569, 'character maps to <undefined>')\n",
      "UnicodeDecodeError('charmap', b'Return-Path: ler@lerami.lerctr.org\\nDelivery-Date: Mon Sep  9 16:18:29 2002\\nReceived: via dmail-2002(12) for +lists/freebsd/bugs; Mon, 9 Sep 2002 16:18:29 -0500 (CDT)\\nReturn-Path: <owner-freebsd-bugs@FreeBSD.ORG>\\nReceived: from mx2.freebsd.org (mx2.FreeBSD.org [216.136.204.119])\\n\\tby lerami.lerctr.org (8.12.2/8.12.2/20020902/$Revision: 1.30 $) with ESMTP id g89LIIE9002193\\n\\tfor <ler@lerctr.org>; Mon, 9 Sep 2002 16:18:20 -0500 (CDT)\\nReceived: from hub.freebsd.org (hub.FreeBSD.org [216.136.204.18])\\n\\tby mx2.freebsd.org (Postfix) with ESMTP\\n\\tid E3751559F2; Mon,  9 Sep 2002 14:18:13 -0700 (PDT)\\n\\t(envelope-from owner-freebsd-bugs@FreeBSD.ORG)\\nReceived: by hub.freebsd.org (Postfix, from userid 538)\\n\\tid 6765737B40F; Mon,  9 Sep 2002 14:18:12 -0700 (PDT)\\nReceived: from localhost (localhost [127.0.0.1])\\n\\tby hub.freebsd.org (Postfix) with SMTP\\n\\tid 649DD2E8023; Mon,  9 Sep 2002 14:18:11 -0700 (PDT)\\nReceived: by hub.freebsd.org (bulk_mailer v1.12); Mon, 9 Sep 2002 14:18:11 -0700\\nDelivered-To: freebsd-bugs@freebsd.org\\nReceived: from mx1.FreeBSD.org (mx1.FreeBSD.org [216.136.204.125])\\n\\tby hub.freebsd.org (Postfix) with ESMTP\\n\\tid 7EC3537B400; Mon,  9 Sep 2002 14:18:04 -0700 (PDT)\\nReceived: from mx2.alles.or.jp (mx2.alles.or.jp [210.231.151.88])\\n\\tby mx1.FreeBSD.org (Postfix) with ESMTP\\n\\tid 0E0A143E42; Mon,  9 Sep 2002 14:18:03 -0700 (PDT)\\n\\t(envelope-from sous1@aa.alles.or.jp)\\nReceived: from B (p6044-ipad22marunouchi.tokyo.ocn.ne.jp [61.214.35.44])\\n\\tby mx2.alles.or.jp (8.9.3/3.7W/allesnet) with SMTP id GAA06604;\\n\\tTue, 10 Sep 2002 06:16:37 +0900 (JST)\\nMessage-Id: <200209092116.GAA06604@mx2.alles.or.jp>\\nFrom: =?iso-2022-jp?B?c291czFAYWEuYWxsZXMub3IuanA=?=@mx2.alles.or.jp\\nTo: =?iso-2022-jp?B?MTIx?=@mx2.alles.or.jp\\nReply-To: sous1@aa.alles.or.jp\\nDate: Tue, 10 Sep 2002 06:16:46 +0900\\nSubject: =?iso-2022-jp?B?GyRCJDckOCRfJEgkYiRiJE4lMyVpJVwlbCE8JTclZyVzGyhK?=\\nContent-Type: text/plain\\nContent-Transfer-Encoding: 7bit\\nMIME-Version: 1.0\\nSender: owner-freebsd-bugs@FreeBSD.ORG\\nList-ID: <freebsd-bugs.FreeBSD.ORG>\\nList-Archive: <http://docs.freebsd.org/mail/> (Web Archive)\\nList-Help: <mailto:majordomo@FreeBSD.ORG?subject=help> (List Instructions)\\nList-Subscribe: <mailto:majordomo@FreeBSD.ORG?subject=subscribe%20freebsd-bugs>\\nList-Unsubscribe: <mailto:majordomo@FreeBSD.ORG?subject=unsubscribe%20freebsd-bugs>\\nX-Loop: FreeBSD.org\\nPrecedence: bulk\\nX-Virus-Scanned: by amavisd-milter (http://amavis.org/)\\nX-Status: \\nX-Keywords: \\n\\n\\x82\\xe0\\x82\\xe0\\x82\\xaa\\x82\\xcd\\x82\\xb6\\x82\\xaf\\x82\\xc4\\x82\\xd4\\x82\\xc7\\x82\\xa4\\x82\\xaa\\x82\\xe4\\x82\\xea\\x82\\xe9\\n\\x82\\xb5\\x82\\xb6\\x82\\xdd\\x82\\xc6\\x82\\xe0\\x82\\xe0\\x82\\xcc\\x83R\\x83\\x89\\x83{\\x83\\x8c\\x81[\\x83V\\x83\\x87\\x83\\x93\\n\\x83\\x8d\\x83\\x8a\\x81[\\x83^\\x83r\\x83f\\x83I\\x81i\\x82c\\x82u\\x82c\\x81j\\x90\\xea\\x96\\xe5\\n\\x82\\xa2\\x82\\xc2\\x82\\xdc\\x82\\xc5\\x89c\\x8b\\xc6\\x82\\xc5\\x82\\xab\\x82\\xe9\\x82\\xa9\\x82\\xed\\x82\\xa9\\x82\\xe8\\x82\\xdc\\x82\\xb9\\x82\\xf1\\n\\x82\\xb2\\x92\\x8d\\x95\\xb6\\x82\\xcd\\x82\\xa8\\x91\\x81\\x82\\xdf\\x82\\xc9\\x81I\\nhttp://book-i.net/mutou\\n\\x8d\\xec\\x95i\\x97\\xe1\\n\\x8f\\xad\\x8f\\x97\\x93`\\x90\\xe0\\x81@\\x96\\xbc\\x8c\\xc3\\x89\\xae\\x92c\\x92n9\\x81@\\x8f\\xad\\x8f\\x97\\x82\\xcc\\x93\\xb9\\x91\\x90\\n\\x82\\xc8\\x82\\xc7\\x82\\xc8\\x82\\xc7132\\x8d\\xec\\x95i\\x81B\\x8dD\\x95]\\x94\\xad\\x94\\x84\\x92\\x86\\x81I\\n(^-^)/~\\x83\\x8d\\x83\\x8a\\x98F\\x97\\x98\\x83\\x80\\x83g\\x81[\\n\\n\\n\\nTo Unsubscribe: send mail to majordomo@FreeBSD.org\\nwith \"unsubscribe freebsd-bugs\" in the body of the message\\n\\n', 2483, 2484, 'character maps to <undefined>')\n",
      "UnicodeDecodeError('charmap', b'Return-Path: ler@lerami.lerctr.org\\nDelivery-Date: Mon Sep  9 23:57:58 2002\\nReceived: via dmail-2002(12) for +lists/freebsd/ports; Mon, 9 Sep 2002 23:57:58 -0500 (CDT)\\nReturn-Path: <owner-freebsd-ports@FreeBSD.ORG>\\nReceived: from mx2.freebsd.org (mx2.FreeBSD.org [216.136.204.119])\\n\\tby lerami.lerctr.org (8.12.2/8.12.2/20020902/$Revision: 1.30 $) with ESMTP id g8A4vnE9027838\\n\\tfor <ler@lerctr.org>; Mon, 9 Sep 2002 23:57:51 -0500 (CDT)\\nReceived: from hub.freebsd.org (hub.FreeBSD.org [216.136.204.18])\\n\\tby mx2.freebsd.org (Postfix) with ESMTP\\n\\tid 113745547D; Mon,  9 Sep 2002 21:57:44 -0700 (PDT)\\n\\t(envelope-from owner-freebsd-ports@FreeBSD.ORG)\\nReceived: by hub.freebsd.org (Postfix, from userid 538)\\n\\tid 1112037B401; Mon,  9 Sep 2002 21:57:43 -0700 (PDT)\\nReceived: from localhost (localhost [127.0.0.1])\\n\\tby hub.freebsd.org (Postfix) with SMTP\\n\\tid 0034B2E800B; Mon,  9 Sep 2002 21:57:42 -0700 (PDT)\\nReceived: by hub.freebsd.org (bulk_mailer v1.12); Mon, 9 Sep 2002 21:57:42 -0700\\nDelivered-To: freebsd-ports@freebsd.org\\nReceived: from mx1.FreeBSD.org (mx1.FreeBSD.org [216.136.204.125])\\n\\tby hub.freebsd.org (Postfix) with ESMTP id F2E7937B400\\n\\tfor <ports@freebsd.org>; Mon,  9 Sep 2002 21:57:41 -0700 (PDT)\\nReceived: from mail10.m.freebit.net (mail12.m.FreeBit.NET [210.143.144.137])\\n\\tby mx1.FreeBSD.org (Postfix) with ESMTP id 4D69943E4A\\n\\tfor <ports@freebsd.org>; Mon,  9 Sep 2002 21:57:41 -0700 (PDT)\\n\\t(envelope-from rite1@reset.jp)\\nReceived: from D (p6044-ipad22marunouchi.tokyo.ocn.ne.jp [61.214.35.44]) by mail10.m.freebit.net (Sun Internet Mail Server sims.4.0.2001.07.26.11.50.p9) with SMTP id <0H2700H6ZGMBNC@mail10.m.freebit.net> for ports@freebsd.org; Tue, 10 Sep 2002 13:38:21 +0900 (JST)\\nDate: Tue, 10 Sep 2002 13:38:32 +0900\\nFrom: =?iso-2022-jp?B?cml0ZTFAcmVzZXQuanA=?=@p6044-ipad22marunouchi.tokyo.ocn.ne.jp\\nSubject: =?iso-2022-jp?B?GyRCJDckOCRfJEgkYiRiJE4lMyVpJVwlbCE8JTclZyVzGyhK?=\\nTo: =?iso-2022-jp?B?MTIx?=@p6044-ipad22marunouchi.tokyo.ocn.ne.jp\\nReply-To: rite1@reset.jp\\nMessage-id: <0H2700HY8GVUNC@mail10.m.freebit.net>\\nMIME-version: 1.0\\nContent-type: text/plain\\nContent-transfer-encoding: 8BIT\\nSender: owner-freebsd-ports@FreeBSD.ORG\\nList-ID: <freebsd-ports.FreeBSD.ORG>\\nList-Archive: <http://docs.freebsd.org/mail/> (Web Archive)\\nList-Help: <mailto:majordomo@FreeBSD.ORG?subject=help> (List Instructions)\\nList-Subscribe: <mailto:majordomo@FreeBSD.ORG?subject=subscribe%20freebsd-ports>\\nList-Unsubscribe: <mailto:majordomo@FreeBSD.ORG?subject=unsubscribe%20freebsd-ports>\\nX-Loop: FreeBSD.org\\nPrecedence: bulk\\nX-Virus-Scanned: by amavisd-milter (http://amavis.org/)\\nX-Status: \\nX-Keywords: \\n\\n\\x82\\xe0\\x82\\xe0\\x82\\xaa\\x82\\xcd\\x82\\xb6\\x82\\xaf\\x82\\xc4\\x82\\xd4\\x82\\xc7\\x82\\xa4\\x82\\xaa\\x82\\xe4\\x82\\xea\\x82\\xe9\\n\\x82\\xb5\\x82\\xb6\\x82\\xdd\\x82\\xc6\\x82\\xe0\\x82\\xe0\\x82\\xcc\\x83R\\x83\\x89\\x83{\\x83\\x8c\\x81[\\x83V\\x83\\x87\\x83\\x93\\n\\x83\\x8d\\x83\\x8a\\x81[\\x83^\\x83r\\x83f\\x83I\\x81i\\x82c\\x82u\\x82c\\x81j\\x90\\xea\\x96\\xe5\\n\\x82\\xa2\\x82\\xc2\\x82\\xdc\\x82\\xc5\\x89c\\x8b\\xc6\\x82\\xc5\\x82\\xab\\x82\\xe9\\x82\\xa9\\x82\\xed\\x82\\xa9\\x82\\xe8\\x82\\xdc\\x82\\xb9\\x82\\xf1\\n\\x82\\xb2\\x92\\x8d\\x95\\xb6\\x82\\xcd\\x82\\xa8\\x91\\x81\\x82\\xdf\\x82\\xc9\\x81I\\nhttp://book-i.net/mutou\\n\\x8d\\xec\\x95i\\x97\\xe1\\n\\x8f\\xad\\x8f\\x97\\x93`\\x90\\xe0\\x81@\\x96\\xbc\\x8c\\xc3\\x89\\xae\\x92c\\x92n9\\x81@\\x8f\\xad\\x8f\\x97\\x82\\xcc\\x93\\xb9\\x91\\x90\\n\\x82\\xc8\\x82\\xc7\\x82\\xc8\\x82\\xc7132\\x8d\\xec\\x95i\\x81B\\x8dD\\x95]\\x94\\xad\\x94\\x84\\x92\\x86\\x81I\\n(^-^)/~\\x83\\x8d\\x83\\x8a\\x98F\\x97\\x98\\x83\\x80\\x83g\\x81[\\n\\n\\nTo Unsubscribe: send mail to majordomo@FreeBSD.org\\nwith \"unsubscribe freebsd-ports\" in the body of the message\\n\\n', 2662, 2663, 'character maps to <undefined>')\n",
      "UnicodeDecodeError('charmap', b'Return-Path: ler@lerami.lerctr.org\\nDelivery-Date: Tue Sep 10 00:35:47 2002\\nReceived: via dmail-2002(12) for +lists/freebsd/questions; Tue, 10 Sep 2002 00:35:47 -0500 (CDT)\\nReturn-Path: <owner-freebsd-questions@FreeBSD.ORG>\\nReceived: from mx2.freebsd.org (mx2.FreeBSD.org [216.136.204.119])\\n\\tby lerami.lerctr.org (8.12.2/8.12.2/20020902/$Revision: 1.30 $) with ESMTP id g8A5ZaE9004346\\n\\tfor <ler@lerctr.org>; Tue, 10 Sep 2002 00:35:37 -0500 (CDT)\\nReceived: from hub.freebsd.org (hub.FreeBSD.org [216.136.204.18])\\n\\tby mx2.freebsd.org (Postfix) with ESMTP\\n\\tid A93A855610; Mon,  9 Sep 2002 22:35:28 -0700 (PDT)\\n\\t(envelope-from owner-freebsd-questions@FreeBSD.ORG)\\nReceived: by hub.freebsd.org (Postfix, from userid 538)\\n\\tid 4467C37B401; Mon,  9 Sep 2002 22:35:27 -0700 (PDT)\\nReceived: from localhost (localhost [127.0.0.1])\\n\\tby hub.freebsd.org (Postfix) with SMTP\\n\\tid 1E30F2E800B; Mon,  9 Sep 2002 22:35:27 -0700 (PDT)\\nReceived: by hub.freebsd.org (bulk_mailer v1.12); Mon, 9 Sep 2002 22:35:27 -0700\\nDelivered-To: freebsd-questions@freebsd.org\\nReceived: from mx1.FreeBSD.org (mx1.FreeBSD.org [216.136.204.125])\\n\\tby hub.freebsd.org (Postfix) with ESMTP id 1F10337B400\\n\\tfor <questions@FreeBSD.ORG>; Mon,  9 Sep 2002 22:35:26 -0700 (PDT)\\nReceived: from mail10.m.freebit.net (mail12.m.FreeBit.NET [210.143.144.137])\\n\\tby mx1.FreeBSD.org (Postfix) with ESMTP id 497F343E6A\\n\\tfor <questions@FreeBSD.ORG>; Mon,  9 Sep 2002 22:35:25 -0700 (PDT)\\n\\t(envelope-from rite1@reset.jp)\\nReceived: from D (p6044-ipad22marunouchi.tokyo.ocn.ne.jp [61.214.35.44]) by mail10.m.freebit.net (Sun Internet Mail Server sims.4.0.2001.07.26.11.50.p9) with SMTP id <0H2700ITXIN2Z2@mail10.m.freebit.net> for questions@FreeBSD.ORG; Tue, 10 Sep 2002 14:20:05 +0900 (JST)\\nDate: Tue, 10 Sep 2002 14:20:15 +0900\\nFrom: =?iso-2022-jp?B?cml0ZTFAcmVzZXQuanA=?=@p6044-ipad22marunouchi.tokyo.ocn.ne.jp\\nSubject: =?iso-2022-jp?B?GyRCJDckOCRfJEgkYiRiJE4lMyVpJVwlbCE8JTclZyVzGyhK?=\\nTo: =?iso-2022-jp?B?MTIx?=@p6044-ipad22marunouchi.tokyo.ocn.ne.jp\\nReply-To: rite1@reset.jp\\nMessage-id: <0H2700IFQITEZ2@mail10.m.freebit.net>\\nMIME-version: 1.0\\nContent-type: text/plain\\nContent-transfer-encoding: 8BIT\\nSender: owner-freebsd-questions@FreeBSD.ORG\\nList-ID: <freebsd-questions.FreeBSD.ORG>\\nList-Archive: <http://docs.freebsd.org/mail/> (Web Archive)\\nList-Help: <mailto:majordomo@FreeBSD.ORG?subject=help> (List Instructions)\\nList-Subscribe: <mailto:majordomo@FreeBSD.ORG?subject=subscribe%20freebsd-questions>\\nList-Unsubscribe: <mailto:majordomo@FreeBSD.ORG?subject=unsubscribe%20freebsd-questions>\\nX-Loop: FreeBSD.ORG\\nPrecedence: bulk\\nX-Virus-Scanned: by amavisd-milter (http://amavis.org/)\\nX-Status: \\nX-Keywords: \\n\\n\\x82\\xe0\\x82\\xe0\\x82\\xaa\\x82\\xcd\\x82\\xb6\\x82\\xaf\\x82\\xc4\\x82\\xd4\\x82\\xc7\\x82\\xa4\\x82\\xaa\\x82\\xe4\\x82\\xea\\x82\\xe9\\n\\x82\\xb5\\x82\\xb6\\x82\\xdd\\x82\\xc6\\x82\\xe0\\x82\\xe0\\x82\\xcc\\x83R\\x83\\x89\\x83{\\x83\\x8c\\x81[\\x83V\\x83\\x87\\x83\\x93\\n\\x83\\x8d\\x83\\x8a\\x81[\\x83^\\x83r\\x83f\\x83I\\x81i\\x82c\\x82u\\x82c\\x81j\\x90\\xea\\x96\\xe5\\n\\x82\\xa2\\x82\\xc2\\x82\\xdc\\x82\\xc5\\x89c\\x8b\\xc6\\x82\\xc5\\x82\\xab\\x82\\xe9\\x82\\xa9\\x82\\xed\\x82\\xa9\\x82\\xe8\\x82\\xdc\\x82\\xb9\\x82\\xf1\\n\\x82\\xb2\\x92\\x8d\\x95\\xb6\\x82\\xcd\\x82\\xa8\\x91\\x81\\x82\\xdf\\x82\\xc9\\x81I\\nhttp://book-i.net/mutou\\n\\x8d\\xec\\x95i\\x97\\xe1\\n\\x8f\\xad\\x8f\\x97\\x93`\\x90\\xe0\\x81@\\x96\\xbc\\x8c\\xc3\\x89\\xae\\x92c\\x92n9\\x81@\\x8f\\xad\\x8f\\x97\\x82\\xcc\\x93\\xb9\\x91\\x90\\n\\x82\\xc8\\x82\\xc7\\x82\\xc8\\x82\\xc7132\\x8d\\xec\\x95i\\x81B\\x8dD\\x95]\\x94\\xad\\x94\\x84\\x92\\x86\\x81I\\n(^-^)/~\\x83\\x8d\\x83\\x8a\\x98F\\x97\\x98\\x83\\x80\\x83g\\x81[\\n\\n\\nTo Unsubscribe: send mail to majordomo@FreeBSD.org\\nwith \"unsubscribe freebsd-questions\" in the body of the message\\n\\n', 2708, 2709, 'character maps to <undefined>')\n",
      "UnicodeDecodeError('charmap', b'From email@hkem.com  Tue Dec  3 11:46:36 2002\\nReturn-Path: <email@hkem.com>\\nDelivered-To: yyyy@localhost.spamassassin.taint.org\\nReceived: from localhost (jalapeno [127.0.0.1])\\n\\tby jmason.org (Postfix) with ESMTP id F161516F16\\n\\tfor <jm@localhost>; Tue,  3 Dec 2002 11:46:31 +0000 (GMT)\\nReceived: from jalapeno [127.0.0.1]\\n\\tby localhost with IMAP (fetchmail-5.9.0)\\n\\tfor jm@localhost (single-drop); Tue, 03 Dec 2002 11:46:32 +0000 (GMT)\\nReceived: from hkem.com ([61.236.128.64]) by dogma.slashnull.org\\n    (8.11.6/8.11.6) with ESMTP id gB3Be9803237 for <jm@jmason.org>;\\n    Tue, 3 Dec 2002 11:40:11 GMT\\nMessage-Id: <200212031140.gB3Be9803237@dogma.slashnull.org>\\nFrom: email@hkem.com\\nSubject: HK Email marking !\\nTo: yyyy@spamassassin.taint.org\\nContent-Type: text/html;charset=\"GB2312\"\\nReply-To: email@hkem.com\\nDate: Tue, 3 Dec 2002 19:41:57 +0800\\nX-Priority: 3\\nX-Mailer: Microsoft Outlook Express 5.00.2615.200\\n\\n<STYLE type=\"text/css\">\\n<!--\\nP{\\n  font-size : 12px;\\n  color : navy;\\n}\\n-->\\n</STYLE>\\n</HEAD>\\n<BODY>\\n<P>(Hello,This is Chinese Traditional)<BR>\\n</P>\\n<DIV style=\"width : 376px;height : 12px;top : 195px;left : 238px;\\n  position : absolute;\\n  z-index : 3;\\n  visibility : visible;\\n  background-color : lime;\\n\" id=\"Layer3\"></DIV>\\n<DIV style=\"width : 73px;height : 14px;top : 172px;left : 238px;\\n  position : absolute;\\n  z-index : 2;\\n  visibility : visible;\\n  background-color : olive;\\n\" id=\"Layer2\"></DIV>\\n<DIV style=\"width : 39px;height : 13px;top : 149px;left : 239px;\\n  position : absolute;\\n  z-index : 1;\\n  visibility : visible;\\n  background-color : silver;\\n\" id=\"Layer1\"></DIV>\\n<P>\\xeb\\x8a\\xd7\\xd3\\xe0]\\xbc\\xfe \\xa1\\xaa\\xa1\\xaa21\\xca\\xc0\\xbco\\xd7\\xee\\xd3\\xd0\\xd0\\xa7\\xb5\\xc4\\xd0\\xfb\\x82\\xf7\\xb7\\xbd\\xca\\xbd\\xa3\\xba<BR>\\n&nbsp; &nbsp;\\xc4\\xfa\\xcf\\xeb\\xd7\\x8c\\xae\\x94\\xb5\\xd810\\xc8f\\xc8\\xcb\\xcd\\xac\\xd2\\xbb\\x95r\\xbf\\xcc\\xd6\\xaa\\xb5\\xc0\\xc4\\xfa\\xb5\\xc4\\x8fV\\xb8\\xe6\\x86\\xe1\\xa3\\xbf\\xc4\\xfa\\xcf\\xeb\\xb7\\xbd\\xb1\\xe3\\xbf\\xec\\xbd\\xdd\\xb5\\xc4\\xd0\\xfb\\x82\\xf7\\xc4\\xfa\\xb5\\xc4\\xc6\\xf3\\x98I\\x86\\xe1\\xa3\\xbf\\n<BR>\\n&nbsp; &nbsp;\\xc4\\xfa\\xcf\\xeb\\xd4\\xda\\xc9\\xcc\\x98I\\xb8\\x82\\xa0\\x8e\\xd6\\xd0\\xb2\\xbd\\xb2\\xbd\\x93\\x8c\\x81\\xd7\\xcf\\xc8\\x99C\\x86\\xe1\\xa3\\xbf\\n\\xc4\\xfa\\xcf\\xeb\\xd2\\xbb\\xb4\\xce\\x93\\xed\\xd3\\xd0\\x8e\\xd7\\x83|\\x82\\x80\\x9d\\x93\\xd4\\xda\\xc9\\xcc\\x98I\\xbf\\xcd\\x91\\xf4\\x86\\xe1\\xa3\\xbf<BR>\\n&nbsp; &nbsp;\\xd4\\xbd\\x81\\xed\\xd4\\xbd\\xb6\\xe0\\xb5\\xc4\\xd5{\\xb2\\xe9\\xb1\\xed\\xc3\\xf7 \\xa3\\xac\\xbeW\\xc2\\xb7\\xd6\\xb1\\xe4N\\x8c\\xa2\\x95\\xfe\\xb3\\xc9\\xa0\\x91\\xce\\xb4\\x81\\xed\\xa0I\\xe4N\\xb7\\xbd\\xca\\xbd\\xb5\\xc4\\xd6\\xf7\\xc1\\xf7\\xa3\\xac\\xb6\\xf8E-mail\\x8c\\xa2\\xca\\xc7\\xbeW\\xc9\\xcf\\xa0I\\xe4N\\xd7\\xee\\xb3\\xa3\\xd3\\xc3\\xd2\\xb2\\xca\\xc7\\xd7\\xee\\x8c\\x8d\\xd3\\xc3\\xb5\\xc4\\xb9\\xa4\\xbe\\xdf\\xa1\\xa3<BR>\\n\\xc6\\xe4\\xcc\\xd8\\xfcc\\xa3\\xba\\xb9\\xa0\\x87\\xfa\\x8fV\\xa3\\xac\\x95r\\xd0\\xa7\\xb8\\xdf\\xa3\\xac\\x83r\\xb8\\xf1\\xb5\\xcd\\xa1\\xa3\\x93\\xfeeMarketer\\xb9\\xc0\\xd3\\x8b\\xa3\\xac\\xc3\\xc0\\x87\\xf8\\xd3\\xd061%\\xb5\\xc4\\xd6\\xd0\\xb5\\xc8\\xd2\\x8e\\xc4\\xa3\\xb9\\xab\\xcb\\xbe\\xbd\\x9b\\xb3\\xa3\\xdf\\\\\\xd3\\xc3\\xeb\\x8a\\xd7\\xd3\\xe0]\\xbc\\xfe\\xdfM\\xd0\\xd0\\xa0I\\xe4N\\xbb\\xee\\x84\\xd3\\xa1\\xa3<BR>\\n<BR>\\n\\xb2\\xbf\\xb7\\xd6\\x8fV\\xb8\\xe6\\xc3\\xbd\\xf3w\\xc6\\xbd\\xbe\\xf9\\xbb\\xd8\\x91\\xaa\\xc2\\xca\\xb1\\xc8\\xdd^ \\xa3\\xa8Average Response\\nRate Ranges\\xa3\\xa9 <BR>\\n\\xa1\\xa1 0.5-1% \\xc6\\xd5\\xcd\\xa8\\xba\\xe1\\xb7\\xf9\\xb9\\xe3\\xb8\\xe6(banner ads) <BR>\\n<BR>\\n\\xa1\\xa1 1-2% \\xc6\\xd5\\xcd\\xa8\\xd0\\xc5\\xbc\\xfe(direct mail) <BR>\\n<BR>\\n\\xa1\\xa1 10-15% \\xeb\\x8a\\xd7\\xd3\\xe0]\\xbc\\xfe(Email) <BR>\\n<BR>\\n<BR>\\n<B><FONT size=\"+1\" color=\"#ff0080\">\\xd2\\xbb [\\xe0]\\xbc\\xfe\\xb3\\xf6\\xca\\xdb] </FONT></B><BR>\\n<BR>\\n\\xd9\\x8f\\xd9I\\xc8\\xab\\xc7\\xf2\\xe0]\\xbc\\xfe\\xb5\\xd8\\xd6\\xb7\\xa3\\xba \\xc3\\xbf1000\\xc8f/500HK \\xa3\\xa8\\xd9\\x8f\\xd9I\\xc8\\xab\\xb2\\xbf9000\\xc8f/3600HK\\xa3\\xa9\\n<BR>\\n\\xd9\\x8f\\xd9I\\xcf\\xe3\\xb8\\xdb\\xe0]\\xbc\\xfe\\xb5\\xd8\\xd6\\xb7\\xa3\\xba \\xc3\\xbf10\\xc8f/400HK &nbsp; \\xa3\\xa8\\xd9\\x8f\\xd9I\\xcf\\xe3\\xb8\\xdb\\xc8\\xab\\xb2\\xbf325\\xc8f/5500HK\\xa3\\xa9\\n&nbsp;<A href=\"http://www.jjyx.com/serve/hk1.txt\" target=\"_blank\" style=\"font-size : 21px;\"><B><FONT size=\"+1\" color=\"#ff0000\">free download</FONT></B></A><BR>\\n\\xd9\\x8f\\xd9I\\xc5_\\x9e\\xb3\\xe0]\\xbc\\xfe\\xb5\\xd8\\xd6\\xb7\\xa3\\xba \\xc3\\xbf10\\xc8f/400HK &nbsp; \\xa3\\xa8\\xd9\\x8f\\xd9I\\xc5_\\x9e\\xb3\\xc8\\xab\\xb2\\xbf201\\xc8f/4500HK\\xa3\\xa9\\n&nbsp;<A href=\"http://www.jjyx.com/serve/wd/taiwan.txt\" target=\"_blank\" style=\"font-size : 21px;\"><B><FONT size=\"+1\" color=\"#ff0000\">free download</FONT></B></A><BR>\\n<BR>\\n<B><FONT size=\"+1\" color=\"#ff0080\" style=\"color : #0080ff;\"> &nbsp; &nbsp;[\\xe0]\\xbc\\xfe\\xb0l\\xcb\\xcd]</FONT></B><BR>\\n\\x8fV\\xb8\\xe6\\xe0]\\xbc\\xfe\\xb4\\xfa\\xc0\\xed\\xb0l\\xcb\\xcd\\xa3\\xba \\xc3\\xbf10\\xc8f/500HK 20\\xc8f\\xc6\\xf0\\xb0l\\n\\xa3\\xa8\\x9c\\xca\\xb4_\\xc2\\xca90%\\xd2\\xd4\\xc9\\xcf\\xa3\\xa9<BR>\\n\\xb0\\xfc\\xd6\\xdc\\xc8\\xba\\xb0l\\xa3\\xba &nbsp; &nbsp; &nbsp; &nbsp; \\xd2\\xbb\\xd6\\xdc60\\xc8f/2500HK\\n<BR>\\n&nbsp; &nbsp; &nbsp; &nbsp; &nbsp; &nbsp;\\n&nbsp; &nbsp; &nbsp; &nbsp;\\xd2\\xbb\\xd6\\xdc100\\xc8f/4000HK\\n\\xa3\\xa8\\xb1\\xa3\\xd7C\\xbeW\\xd5\\xbe\\xc8\\xd5\\xd4L\\x86\\x96\\xc1\\xbf\\xcc\\xe1\\xc9\\xfd2000\\xd2\\xd4\\xc9\\xcf\\xa3\\xa9<BR>\\n\\xb0\\xfc\\xd4\\xc2\\xc8\\xba\\xb0l\\xa3\\xba &nbsp; &nbsp; &nbsp; &nbsp; \\xd2\\xbb\\xd4\\xc2500\\xc8f/9500HK\\n\\xa3\\xa8\\xb1\\xa3\\xd7C\\xbeW\\xd5\\xbe\\xc8\\xd5\\xd4L\\x86\\x96\\xc1\\xbf\\xcc\\xe1\\xc9\\xfd5000\\xd2\\xd4\\xc9\\xcf\\xa3\\xa9 <BR>\\n<BR>\\n<B><FONT size=\"+1\" color=\"#ff8040\" style=\"color : #ff8040;\"> &nbsp; &nbsp;[\\xe0]\\xbc\\xfe\\xdc\\x9b\\xf3w]</FONT></B><BR>\\n<SPAN lang=\"EN-US\" style=\"FONT-SIZE: 9pt; COLOR: #0000c4\"><SPAN style=\"COLOR: navy; mso-fareast-font-family: PMingLiU; mso-fareast-language: ZH-TW\">70</SPAN><SPAN lang=\"ZH-TW\" style=\"COLOR: navy; FONT-FAMILY: PMingLiU; mso-fareast-language: ZH-TW; mso-ascii-font-family: \\'Times New Roman\\'; mso-hansi-font-family: \\'Times New Roman\\'\">\\xf0N\\xcc\\xd7\\xc8\\xba\\xb0l\\xa3\\xac\\xcb\\xd1\\xcb\\xf7\\xa3\\xac\\xbeW\\xc2\\xb7\\xb0l\\x81\\xd1\\xdc\\x9b\\xf3w</SPAN><SPAN style=\"COLOR: navy; mso-fareast-font-family: PMingLiU; mso-fareast-language: ZH-TW\">/2200</SPAN><SPAN lang=\"ZH-TW\" style=\"COLOR: navy; FONT-FAMILY: PMingLiU; mso-fareast-language: ZH-TW; mso-ascii-font-family: \\'Times New Roman\\'; mso-hansi-font-family: \\'Times New Roman\\'\">HK</SPAN></SPAN><SPAN lang=\"EN-US\" style=\"FONT-SIZE: 9pt; mso-fareast-font-family: PMingLiU; mso-fareast-language: ZH-TW\"> </SPAN><SPAN lang=\"ZH-TW\" style=\"FONT-SIZE: 9pt; FONT-FAMILY: PMingLiU; mso-fareast-language: ZH-TW; mso-ascii-font-family: \\'Times New Roman\\'; mso-hansi-font-family: \\'Times New Roman\\'\"></SPAN><SPAN lang=\"ZH-TW\" style=\"FONT-SIZE: 9pt\"></SPAN><SPAN lang=\"EN-US\" style=\"FONT-SIZE: 9pt\"></SPAN><SPAN lang=\"EN-US\" style=\"FONT-SIZE: 9pt; COLOR: #0000bf\"><SPAN lang=\"ZH-TW\" style=\"COLOR: navy; FONT-FAMILY: PMingLiU; mso-fareast-language: ZH-TW; mso-ascii-font-family: \\'Times New Roman\\'; mso-hansi-font-family: \\'Times New Roman\\'\"></SPAN><SPAN style=\"COLOR: navy; mso-fareast-font-family: PMingLiU; mso-fareast-language: ZH-TW\"></SPAN><SPAN lang=\"ZH-TW\" style=\"COLOR: navy; FONT-FAMILY: PMingLiU; mso-fareast-language: ZH-TW; mso-ascii-font-family: \\'Times New Roman\\'; mso-hansi-font-family: \\'Times New Roman\\'\">\\xd7\\x8c\\xc4\\xe3\\xd7\\xd4\\xbc\\xba\\x93\\xed\\xd3\\xd0\\xd2\\xbb\\xcc\\xd7\\xcd\\xea\\xc9\\xc6\\xb5\\xc4\\xeb\\x8a\\xd7\\xd3\\xe0]\\xbc\\xfe\\xc8\\xba\\xb0l\\xa3\\xac\\xcb\\xd1\\xcb\\xf7\\xa3\\xac\\xbeW\\xc2\\xb7\\xb0l\\x81\\xd1\\xcf\\xb5\\xbdy</SPAN></SPAN><BR>\\n\\xd3\\xd0\\xd2\\xe2\\xd5\\xdf\\xc7\\xeb\\xc0\\xb4\\xd0\\xc5\\xc1\\xaa\\xcf\\xb5\\xa3\\xba<A href=\"mailto:yhzx599@vip.sina.com\">yhzx599@vip.sina.com</A></P>\\n\\n\\n<P><BR>\\n<B><FONT size=\"+1\" color=\"#ff0000\">\\xb6\\xfe \\xcb\\xd1\\xcb\\xf7\\xd2\\xfd\\xc7\\xe6\\xd4]\\x83\\xd4\\xb5\\xc7\\xea\\x91 \\xa3\\xa8\\xb3\\xac\\xd6\\xb5\\xb7\\xfe\\x84\\xd5\\xa3\\xac\\xcc\\xd8\\xbb\\xdd\\x83r2200\\nHK\\xa3\\xa9</FONT></B><BR>\\n\\xe3y\\xba\\xd3\\xd6\\xae\\xd0\\xc7\\x8e\\xcd\\xc4\\xfa\\xb5\\xc7\\xea\\x91\\xc8\\xab\\xc7\\xf26000\\x82\\x80\\xd3\\xa2\\xce\\xc4\\xcb\\xd1\\xcb\\xf7\\xd2\\xfd\\xc7\\xe6\\xa3\\xac\\xdfM200\\x82\\x80\\xd6\\xd0\\xce\\xc4\\xcb\\xd1\\xcb\\xf7\\xd2\\xfd\\xc7\\xe6\\xa1\\xa3\\xd7\\x8c\\xc4\\xe3\\xb5\\xc4\\xbeW\\xd5\\xbe\\xcf\\xed\\xd7u\\xc8\\xab\\xc7\\xf2\\xa1\\xa3<BR>\\n<BR>\\n<BR>\\n<B>e-mail\\xb5\\xd8\\xd6\\xb7\\xd4\\xda\\xb8\\xf7\\xb5\\xd8\\x85^\\xb5\\xc4\\xb7\\xd6\\x81\\xd1\\x94\\xb5\\xc1\\xbf</B><BR>\\n<BR>\\n\\xcf\\xe3\\xb8\\xdb\\xa1\\xaa\\xa1\\xaa\\xa1\\xaa\\xa1\\xaa\\xa1\\xaa\\xa1\\xaa\\xa1\\xaa\\xa1\\xaa\\xa1\\xaa\\xa1\\xaa\\xa1\\xaa\\xa1\\xaa\\xa1\\xaa\\xa1\\xaa\\xa1\\xaa\\xa1\\xaa\\xa1\\xaa\\xa1\\xaa\\xa1\\xaa\\xa1\\xaa\\xa1\\xaa\\xa1\\xaa\\xa1\\xaa\\xa1\\xaa\\xa1\\xaa\\xa1\\xaa\\xa1\\xaa\\xa1\\xaa\\xa1\\xaa\\xa1\\xaa\\xa1\\xaa\\xa1\\xaa32525642\\x82\\x80\\n&nbsp;<A href=\"http://www.jjyx.com/serve/hk1.txt\" target=\"_blank\" style=\"font-size : 21px;\"><B><FONT size=\"+1\" color=\"#ff0000\">free download the sample</FONT></B></A><BR>\\n\\xc5_\\x9e\\xb3\\xa1\\xaa\\xa1\\xaa\\xa1\\xaa\\xa1\\xaa\\xa1\\xaa\\xa1\\xaa\\xa1\\xaa\\xa1\\xaa\\xa1\\xaa\\xa1\\xaa\\xa1\\xaa\\xa1\\xaa\\xa1\\xaa\\xa1\\xaa\\xa1\\xaa\\xa1\\xaa\\xa1\\xaa\\xa1\\xaa\\xa1\\xaa\\xa1\\xaa\\xa1\\xaa\\xa1\\xaa\\xa1\\xaa\\xa1\\xaa\\xa1\\xaa\\xa1\\xaa\\xa1\\xaa\\xa1\\xaa\\xa1\\xaa\\xa1\\xaa\\xa1\\xaa\\xa1\\xaa20012356\\x82\\x80\\n&nbsp;<A href=\"http://www.jjyx.com/serve/wd/taiwan.txt\" target=\"_blank\" style=\"font-size : 21px;\"><B><FONT size=\"+1\" color=\"#ff0000\">free download the sample</FONT></B></A><BR>\\n\\xc8\\xab\\xc7\\xf2\\xa1\\xaa\\xa1\\xaa\\xa1\\xaa\\xa1\\xaa\\xa1\\xaa\\xa1\\xaa\\xa1\\xaa\\xa1\\xaa\\xa1\\xaa\\xa1\\xaa\\xa1\\xaa\\xa1\\xaa\\xa1\\xaa\\xa1\\xaa\\xa1\\xaa\\xa1\\xaa\\xa1\\xaa\\xa1\\xaa\\xa1\\xaa\\xa1\\xaa\\xa1\\xaa\\xa1\\xaa\\xa1\\xaa\\xa1\\xaa\\xa1\\xaa\\xa1\\xaa\\xa1\\xaa\\xa1\\xaa\\xa1\\xaa\\xa1\\xaa\\xa1\\xaa\\xa1\\xaa9000\\xc8f<BR>\\n<BR>\\n<BR>\\n<BR>\\n&nbsp; \\xe3y\\xba\\xd3\\xd6\\xae\\xd0\\xc7\\x93\\xed\\xd3\\xd0\\x87\\xf8\\x83\\xc8\\xcd\\xe2\\xc9\\xcf\\x83|\\x82\\x80\\xd3\\xd0\\xd0\\xa7\\xb5\\xc4email\\xce\\xbb\\xd6\\xb7\\xd9Y\\xc1\\xcf\\x8e\\xec\\xa3\\xac\\xbf\\xc9\\xd2\\xd4\\xb8\\xf9\\x93\\xfe\\xbf\\xcd\\x91\\xf4\\xb5\\xc4\\xd0\\xe8\\xd2\\xaa\\xa3\\xac\\xd4\\xda\\xd6\\xb8\\xb6\\xa8\\xb5\\xc4\\xb5\\xd8\\xb7\\xbd\\xa3\\xac\\x85^\\xd3\\xf2,\\xd0\\xd0\\x98I\\xee\\x90\\x84e\\xb5\\xc8\\x8c\\xd9\\xd0\\xd4\\xcd\\xb6\\xb7\\xc5\\xeb\\x8a\\xd7\\xd3\\xe0]\\xbc\\xfe\\x8fV\\xb8\\xe6\\xa1\\xa3<BR>\\n\\xc8\\xe7\\xa3\\xba\\xc4\\xe3\\xcf\\xeb\\xd7\\x8c\\xc4\\xb3\\xb5\\xd810\\xc8f\\xc8\\xcb\\xd2\\xbb\\xcc\\xec\\xd6\\xae\\xee\\x90\\xb6\\xbc\\xd6\\xaa\\xb5\\xc0\\xc4\\xe3\\xb5\\xc4\\xaea\\xc6\\xb7\\xa3\\xac\\xd9Y\\xd3\\x8d\\xa1\\xa3\\xc4\\xc7\\xf7\\xe1\\x8fV\\xb8\\xe6\\xe0]\\xbc\\xfe\\xcd\\xb6\\xb7\\xc5\\xbe\\xcd\\xca\\xc7\\xc4\\xe3\\xd7\\xee\\xba\\xc3\\xb5\\xc4\\xbd\\xe2\\x9bQ\\xb7\\xbd\\xb0\\xb8\\xa3\\xac\\xcb\\xfc\\xb5\\xc4\\x83r\\xb8\\xf1\\xca\\xc7\\xcb\\xf9\\xd3\\xd0\\x82\\xf7\\xc3\\xba\\x83r\\xb8\\xf1\\xd6\\xd0\\xd7\\xee\\xb5\\xcd\\xa3\\xac<BR>\\n\\xb5\\xab\\xd3\\xd6\\xca\\xc7\\xd7\\xee\\xd3\\xd0\\xd0\\xa7\\xb5\\xc4\\xa1\\xa3\\x99C\\xd3\\xf6\\xc3\\xbf\\x95r\\xc3\\xbf\\xbf\\xcc\\xb6\\xbc\\xb5\\xc8\\xb4\\xfd\\xd6\\xf8\\xc4\\xe3\\xa3\\xac\\xd2\\xb2\\xd4S\\xc4\\xe3\\xd5\\xfd\\xca\\xc7\\xd3\\xc3\\xc1\\xcb\\xdf@\\x98\\xd3\\xb5\\xc4\\x82\\xf7\\xc3\\xba\\xca\\xd6\\xb6\\xce\\xa3\\xac\\xb6\\xf8\\xb4\\xf2\\xbf\\xe5\\xc1\\xcb\\xcb\\xf9\\xd3\\xd0\\xb5\\xc4\\xb8\\x82\\xa0\\x8e\\x8c\\xa6\\xca\\xd6\\xa1\\xa3\\xdas\\xbf\\xec\\xd0\\xd0\\x84\\xd3\\xb0\\xc9\\xa3\\xac\\xd7\\x8c\\xc4\\xe3\\xb5\\xc4\\xc6\\xf3\\x98I\\xa3\\xac<BR>\\n\\xb9\\xab\\xcb\\xbe\\xc1\\xa2\\xbc\\xb4\\xd5\\xc6\\xce\\xd5\\xc9\\xcc\\x98I\\x82\\xf7\\xc3\\xbd\\xb5\\xc4\\xc3\\xfc\\xc3}------\\x8fV\\xb8\\xe6e-mail\\xa1\\xa3\\xdf@\\xca\\xc7\\xc6\\xd5\\xcd\\xa8\\x82\\xf7\\xe4N\\xbd\\x9b\\xa0I\\xcb\\xf9\\xb2\\xbb\\xc4\\xdc\\xb1\\xc8\\x94M\\xb5\\xc4\\xa1\\xa3<BR>\\n<BR>\\n<BR>\\n<FONT size=\"+1\"><B>\\xc2\\x93\\xc0M\\xbc\\xb0\\xb8\\xb6\\xbf\\xee\\xb7\\xbd\\xca\\xbd\\xa3\\xba</B></FONT><BR>\\n\\xb1\\xbe\\xb9\\xab\\xcb\\xbe\\x8f\\xc4\\xca\\xc2\\xbeW\\xc2\\xb7\\x8fV\\xb8\\xe6\\xb6\\xe0\\xc4\\xea\\xa3\\xac\\xd0\\xfb\\x82\\xf7\\xc1\\xa6\\xb6\\xc8\\xce\\xbb\\xbe\\xd3\\xd6\\xd0\\x87\\xf8\\xb5\\xda\\xcb\\xc4\\xb4\\xf3\\xbeW\\xc2\\xb7\\x8fV\\xb8\\xe6\\xc9\\xcc\\xd6\\xae\\xd2\\xbb\\xa3\\xac<BR>\\n\\xce\\xd2\\x82\\x83\\xd3\\xd0\\x8c\\xa3\\xe9T\\xb5\\xc4\\xbc\\xbc\\xd0g\\xc8\\xcb\\x86T\\xba\\xcd\\xb8\\xdf\\xcb\\xd9\\x8c\\xa3\\x98I\\xb5\\xc4\\xb7\\xfe\\x84\\xd5\\xcf\\xb5\\xbdy\\x8f\\xc4\\xca\\xc2\\xb4\\xcb\\xed\\x97\\xb9\\xa4\\xd7\\xf7\\xa3\\xac\\xb1\\xd8\\x8c\\xa2\\xa0\\x91\\xc4\\xfa\\xb5\\xc4\\xc6\\xf3\\x98I\\xcc\\xe1\\xb9\\xa9\\xd7\\xee\\xd1\\xb8\\xbd\\xdd\\xa1\\xa2\\xd7\\xee\\xd3\\xd0\\xd0\\xa7\\xa1\\xa2\\xd7\\xee\\x9dM\\xd2\\xe2\\xb5\\xc4\\xb7\\xfe\\x84\\xd5\\xa1\\xa3<BR>\\n<BR>\\n<BR>\\n<FONT size=\"+1\"><B>\\xd0\\xe8\\xc7\\xf3\\xbf\\xcd\\x91\\xf4\\xd5\\x88\\xfcc\\x93\\xf4\\xdf@\\xd1Y\\xa3\\xa8\\xc2\\x93\\xc0M\\xe0]\\xcf\\xe4)<BR>\\n<A href=\"mailto:yhzx599@vip.sina.com\">yhzx599@vip.sina.com</A> \\xa3\\xa8\\x81\\xed\\xd0\\xc5\\xd5\\x88\\xd7\\xa2\\xc3\\xf7\\xc4\\xfa\\xd0\\xe8\\xd2\\xaa\\xb5\\xc4\\xb7\\xfe\\x84\\xd5\\xc5c\\xc2\\x93\\xc0M\\xb7\\xbd\\xca\\xbd\\xa3\\xac\\xce\\xd2\\x82\\x83\\x95\\xfe\\x83\\x8d\\xbf\\xec\\xbb\\xd8\\x8f\\xcd\\xc4\\xfa\\xa1\\xa3\\xa3\\xa9</B></FONT><BR>\\n<BR>\\n<B><FONT size=\"+1\">\\xb8\\xdb\\xa1\\xa2\\xb0\\xc4\\xa1\\xa2\\xc5_\\xb5\\xd8\\x85^\\xb8\\xb6\\xbf\\xee\\xb7\\xbd\\xca\\xbd\\xa3\\xa8\\xc8\\xce\\xba\\xce\\x87\\xf8\\xbc\\xd2\\xbe\\xf9\\xbf\\xc9\\xb5\\xbd\\xae\\x94\\xb5\\xd8\\xe3y\\xd0\\xd0\\xeb\\x8a\\x85R\\xa3\\xac2-3\\xcc\\xec\\xb5\\xbd\\x8e\\xa4\\xa3\\xa9<BR>\\n\\xd0\\xe8\\xb5\\xbd\\xae\\x94\\xb5\\xd8\\xe3y\\xd0\\xd0\\xdek\\xc0\\xed\\xeb\\x8a\\x85R <BR>\\nEnglish:<BR>\\n<BR>\\nBENIFICIARY CUSTOMER: &nbsp;wangjingjing<BR>\\nA/C BANK: &nbsp; &nbsp; &nbsp; &nbsp; &nbsp;\\n&nbsp; &nbsp;BANK OF CHINA MIANYANG BRANCH<BR>\\nA/C NO: &nbsp; &nbsp; &nbsp; &nbsp; &nbsp;\\n&nbsp; &nbsp; &nbsp;8209 9802 0003 158<BR>\\nBENIFICIARY\\'S TEL NO : 0816-6623109<BR>\\n<BR>\\n\\xd6\\xd0\\xce\\xc4\\x8c\\xa6\\xd5\\xd5\\xa3\\xba<BR>\\n\\xca\\xd5 \\xbf\\xee \\xc8\\xcb\\xa3\\xba \\xcd\\xf5\\xbe\\xa7\\xbe\\xa7<BR>\\n\\xca\\xd5\\xbf\\xee\\xe3y\\xd0\\xd0\\xa3\\xba \\xd6\\xd0\\x87\\xf8\\xe3y\\xd0\\xd0\\xbed\\xea\\x96\\xb7\\xd6\\xd0\\xd0<BR>\\n\\x8e\\xa4 &nbsp; &nbsp;\\xcc\\x96\\xa3\\xba 8209 9802 0003 158<BR>\\n\\xca\\xd5\\xbf\\xee\\xc8\\xcb\\xeb\\x8a\\xd4\\x92\\xa3\\xba0816-6623109<BR>\\n<BR>\\n2-3\\xcc\\xec\\xb5\\xbd\\x8e\\xa4\\xa3\\xac\\xbf\\xee\\xb5\\xbd\\xe1\\xe1\\xce\\xd2\\x82\\x83\\x8c\\xa2\\xc1\\xa2\\xbc\\xb4\\xa0\\x91\\xc4\\xfa\\xcc\\xe1\\xb9\\xa9\\xd7\\xee\\x9dM\\xd2\\xe2\\xb7\\xfe\\x84\\xd5\\xa1\\xa3<BR>\\n<BR>\\n\\x9ag\\xd3\\xad\\x81\\xed\\xd0\\xc5\\x81\\xed\\xeb\\x8a\\xd6J\\xd4\\x83\\xc2\\x93\\xc0M \\xeb\\x8a\\xd4\\x92\\xa3\\xba0086-0816-6623109\\n</FONT><BR>\\n<BR>\\n<FONT size=\"+1\">\\xe3y\\xba\\xd3\\xd6\\xae\\xd0\\xc7\\xbeW\\xc2\\xb7\\xd9Y\\xd3\\x8d\\xd3\\xd0\\xcf\\xde\\xb9\\xab\\xcb\\xbe<BR>\\n\\xb9\\xab\\xcb\\xbe\\xb5\\xd8\\xd6\\xb7\\xa3\\xba\\xd6\\xd0\\x87\\xf8\\xb4\\xf3\\xea\\x91\\xbed\\xea\\x96<BR>\\nEMAIL\\xa3\\xba<A href=\"mailto:yhzx599@vip.sina.com\">yhzx599@vip.sina.com</A> <BR>\\n\\xd6J\\xd4\\x83\\xeb\\x8a\\xd4\\x92\\xa3\\xba0086-0816-6623109 </FONT><BR>\\n<BR>\\n-----------------------------------------------------------------------------------------------------------------------------------<BR>\\n\\xb9\\xab\\xcb\\xbe\\xb7\\xfe\\x84\\xd5\\x8c\\xa3\\xb0\\xb8\\xa3\\xba\\xbeW\\xc2\\xb7\\xcd\\xc6\\x8fV \\xbeW\\xd5\\xbe\\xbd\\xa8\\xd4O \\xbeW\\xc2\\xb7\\x8c\\x8d\\xc3\\xfb\\n\\xbeW\\xed\\x93\\xbc\\xc4\\xb4\\xe6 \\xb9\\xa6\\xc4\\xdc\\xd7\\x83\\x94\\xb5\\xc3\\xfb\\xb7Q\\xbf\\xd5\\xe9g \\xdc\\x9b\\xf3w\\xb0l\\xd5\\xb9\\xb5\\xc8\\xa3\\xac\\x83r\\xe5X\\xb5\\xcd\\xc1\\xae\\xa3\\xac\\xb7\\xfe\\x84\\xd5\\x83\\x9e\\xd9|\\x9ag\\xd3\\xad\\x81\\xed\\xd0\\xc5\\x81\\xed\\xeb\\x8a\\xc2\\x93\\xc0M<BR>\\n-----------------------------------------------------------------------------------------------------------------------------------</B></P>\\n</BODY>\\n\\n\\n', 1674, 1675, 'character maps to <undefined>')\n"
     ]
    }
   ],
   "source": [
    "from nltk.tokenize import word_tokenize\n",
    "\n",
    "ham_path = \"datasets\\easy_ham\"\n",
    "spam_path = \"datasets\\spam\"\n",
    "\n",
    "def tokenize_file(fname):\n",
    "    tokens = None\n",
    "    \n",
    "    with open(fname) as ham_file:\n",
    "        try:\n",
    "            tokens = word_tokenize(ham_file.read())\n",
    "        except UnicodeDecodeError as e:\n",
    "            pprint(e)\n",
    "            \n",
    "    return tokens\n",
    "\n",
    "tokenized_ham = [tokenize_file(ham_path + \"\\\\\"+ fname) for fname in os.listdir(ham_path)]\n",
    "tokenized_spam = [tokenize_file(spam_path + \"\\\\\"+ fname) for fname in os.listdir(spam_path)]\n"
   ]
  },
  {
   "cell_type": "code",
   "execution_count": 29,
   "metadata": {
    "collapsed": false
   },
   "outputs": [
    {
     "ename": "OSError",
     "evalue": "[Errno 22] Invalid argument: 'datasets\\tokenized_ham.pkl'",
     "output_type": "error",
     "traceback": [
      "\u001b[1;31m---------------------------------------------------------------------------\u001b[0m",
      "\u001b[1;31mOSError\u001b[0m                                   Traceback (most recent call last)",
      "\u001b[1;32m<ipython-input-29-61e12f023c9a>\u001b[0m in \u001b[0;36m<module>\u001b[1;34m()\u001b[0m\n\u001b[0;32m      1\u001b[0m \u001b[1;32mfrom\u001b[0m \u001b[0mpickle\u001b[0m \u001b[1;32mimport\u001b[0m \u001b[0mdump\u001b[0m\u001b[1;33m,\u001b[0m \u001b[0mload\u001b[0m\u001b[1;33m\u001b[0m\u001b[0m\n\u001b[0;32m      2\u001b[0m \u001b[1;33m\u001b[0m\u001b[0m\n\u001b[1;32m----> 3\u001b[1;33m \u001b[1;32mwith\u001b[0m \u001b[0mopen\u001b[0m\u001b[1;33m(\u001b[0m\u001b[1;34m'datasets\\tokenized_ham.pkl'\u001b[0m\u001b[1;33m,\u001b[0m \u001b[1;34m'w'\u001b[0m\u001b[1;33m)\u001b[0m \u001b[1;32mas\u001b[0m \u001b[0mf\u001b[0m\u001b[1;33m:\u001b[0m\u001b[1;33m\u001b[0m\u001b[0m\n\u001b[0m\u001b[0;32m      4\u001b[0m     \u001b[0mdump\u001b[0m\u001b[1;33m(\u001b[0m\u001b[0mtokenized_ham\u001b[0m\u001b[1;33m,\u001b[0m \u001b[0mf\u001b[0m\u001b[1;33m)\u001b[0m\u001b[1;33m\u001b[0m\u001b[0m\n\u001b[0;32m      5\u001b[0m \u001b[1;33m\u001b[0m\u001b[0m\n",
      "\u001b[1;31mOSError\u001b[0m: [Errno 22] Invalid argument: 'datasets\\tokenized_ham.pkl'"
     ]
    }
   ],
   "source": [
    "from pickle import dump, load\n",
    "\n",
    "with open('datasets\\tokenized_ham.pkl', 'w') as f:\n",
    "    dump(tokenized_ham, f)\n",
    "    \n",
    "dump(tokenized_spam, open('datasets\\tokenized_spam.pkl', 'wb'))"
   ]
  },
  {
   "cell_type": "code",
   "execution_count": 33,
   "metadata": {
    "collapsed": false
   },
   "outputs": [
    {
     "name": "stdout",
     "output_type": "stream",
     "text": [
      "<class '_io.BufferedWriter'>\n"
     ]
    }
   ],
   "source": [
    "with open(\"test.txt\", \"wb\") as e:\n",
    "    print(type(e))"
   ]
  }
 ],
 "metadata": {
  "kernelspec": {
   "display_name": "Python 3",
   "language": "python",
   "name": "python3"
  },
  "language_info": {
   "codemirror_mode": {
    "name": "ipython",
    "version": 3
   },
   "file_extension": ".py",
   "mimetype": "text/x-python",
   "name": "python",
   "nbconvert_exporter": "python",
   "pygments_lexer": "ipython3",
   "version": "3.5.2"
  }
 },
 "nbformat": 4,
 "nbformat_minor": 0
}
